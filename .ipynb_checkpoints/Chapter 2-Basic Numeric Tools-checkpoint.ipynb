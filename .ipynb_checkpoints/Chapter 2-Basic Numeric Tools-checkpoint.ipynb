{
 "cells": [
  {
   "cell_type": "markdown",
   "id": "a085bd97",
   "metadata": {},
   "source": [
    "# Bisection Method\n",
    "\n",
    "1. Start with two guesses on either side of the root, \n",
    "we'll call the guess to the left of the root a and the guess to the right of the root b.\n",
    "2. Find the value of the function at the midpoint x between a and b.\n",
    "3. Compare the signs of f(x) and f(a): if the signs are different, then the root\n",
    "must be between a and x, so let b = x. If the signs are the same, then the\n",
    "root must be between x and b, so let a = x.\n",
    "4. Repeat this process until the distance between a and b is less than the desired tolerance\n",
    "for your solution."
   ]
  },
  {
   "cell_type": "code",
   "execution_count": 8,
   "id": "ccc2c43e",
   "metadata": {},
   "outputs": [
    {
     "name": "stdout",
     "output_type": "stream",
     "text": [
      "Enter guessess a (root positive):2\n",
      "Enter guessess b (root negative):1\n",
      "Found f(x)=0 at x=1.69460011 +/- 0.00000100\n",
      "f(x)= -2.1972592820773684e-06\n"
     ]
    }
   ],
   "source": [
    "\"\"\"\n",
    "This program uses the bisection method to find the root\n",
    "of f(x) = exp (x)* ln(x) - x*x = 0.\n",
    "\"\"\"\n",
    "from math import * # math functions and constants\n",
    "\n",
    "tolerance=1.0e-6 #solution tolerance.\n",
    "\n",
    "#function definition to calculate the root\n",
    "def f(x):\n",
    "    f=exp(x)*log(x)-x*x\n",
    "    return f\n",
    "\n",
    "#Definition of a & b\n",
    "root_positive, root_negative=-1, 1\n",
    "while root_positive<0:\n",
    "    a=eval(input(\"Enter guessess a (root positive):\"))\n",
    "    root_positive=f(a)\n",
    "while root_negative>0:\n",
    "    b=eval(input(\"Enter guessess b (root negative):\"))\n",
    "    root_negative=f(b)    \n",
    "# a , b =eval(input(\"Enter two guessess, separated by commas:\"))\n",
    "\n",
    "dx = abs(b-a)  #Inital value of dx\n",
    "\n",
    "##Bisection method\n",
    "while dx>tolerance:\n",
    "    x=(a+b)*0.5\n",
    "    if(f(a)*f(x)<0):\n",
    "        b=x\n",
    "    else:\n",
    "        a=x\n",
    "    dx=abs(b-a)\n",
    "    \n",
    "print('Found f(x)=0 at x=%.8f +/- %0.8f' % (x, tolerance))\n",
    "print(\"f(x)=\",f(x))"
   ]
  }
 ],
 "metadata": {
  "kernelspec": {
   "display_name": "Python 3",
   "language": "python",
   "name": "python3"
  },
  "language_info": {
   "codemirror_mode": {
    "name": "ipython",
    "version": 3
   },
   "file_extension": ".py",
   "mimetype": "text/x-python",
   "name": "python",
   "nbconvert_exporter": "python",
   "pygments_lexer": "ipython3",
   "version": "3.8.8"
  }
 },
 "nbformat": 4,
 "nbformat_minor": 5
}
