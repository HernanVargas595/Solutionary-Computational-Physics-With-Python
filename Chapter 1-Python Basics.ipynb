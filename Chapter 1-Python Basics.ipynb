{
 "cells": [
  {
   "cell_type": "markdown",
   "id": "7e05b1d6",
   "metadata": {},
   "source": [
    "# Simple Input & Output\n",
    "\n",
    "In the textbook he uses some examples with Python 2, but since I am working in Jupyter Notebook with Python 3, I have modified the examples and the exercises for can apply these in my case."
   ]
  },
  {
   "cell_type": "code",
   "execution_count": 4,
   "id": "2eee4e73",
   "metadata": {},
   "outputs": [
    {
     "name": "stdout",
     "output_type": "stream",
     "text": [
      "what is your name? Pepito\n",
      "Pepito\n",
      "<class 'str'>\n",
      "what is your sum? 4*23\n",
      "92\n",
      "<class 'int'>\n"
     ]
    }
   ],
   "source": [
    "#Inputs in Python 3\n",
    "\n",
    "#In Python 3 the input function works like raw_input in Python 2\n",
    "name = input( \"what is your name? \" )\n",
    "print(name)\n",
    "print(type(name))\n",
    "\n",
    "#In Python 3 the input function doesn't work like the input function in Python 2, \n",
    "#in change I can use the function eval(input()) like input() in Python 2\n",
    "count=eval(input( \"what is your sum? \" ))\n",
    "print(count)\n",
    "print(type(count))"
   ]
  },
  {
   "cell_type": "code",
   "execution_count": 25,
   "id": "d6e3bbe5",
   "metadata": {},
   "outputs": [
    {
     "name": "stdout",
     "output_type": "stream",
     "text": [
      "Hello, world \n",
      "2.71828\n",
      "Euler's number is approximately 2.71828 .\n",
      "\n",
      "\n",
      "Decimal: 3\n",
      "Floating Point, two decimal places: 3.14\n",
      "Scientific, two D.P, total width 10:   3.14e+00\n",
      "\n",
      "The sum of 3.142 and 2.718 is 5.860.\n"
     ]
    }
   ],
   "source": [
    "#Outputs in Python 3 compared to Python 2. \n",
    "\n",
    "#The form to use print change in Python 3. It's necessary add brackets () to print any variable.\n",
    "\n",
    "e = 2.71828\n",
    "print(\"Hello, world \")\n",
    "print(e)\n",
    "print(\"Euler's number is approximately\" , e , \".\")\n",
    "print(\"\\n\")\n",
    "\n",
    "#specify the format of the output\n",
    "pi = 3.141592\n",
    "print(\"Decimal: %d\" % pi)\n",
    "print(\"Floating Point, two decimal places: %0.2f\" % pi)\n",
    "print(\"Scientific, two D.P, total width 10: %10.2e\\n\" % pi)\n",
    "\n",
    "pi = 3.141592\n",
    "e = 2.718282\n",
    "sum = pi + e\n",
    "print(\"The sum of %0.3f and %0.3f is %0.3f.\" % ( pi , e , sum))"
   ]
  }
 ],
 "metadata": {
  "kernelspec": {
   "display_name": "Python 3",
   "language": "python",
   "name": "python3"
  },
  "language_info": {
   "codemirror_mode": {
    "name": "ipython",
    "version": 3
   },
   "file_extension": ".py",
   "mimetype": "text/x-python",
   "name": "python",
   "nbconvert_exporter": "python",
   "pygments_lexer": "ipython3",
   "version": "3.8.8"
  }
 },
 "nbformat": 4,
 "nbformat_minor": 5
}
