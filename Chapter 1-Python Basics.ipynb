{
 "cells": [
  {
   "cell_type": "markdown",
   "id": "2f123e77",
   "metadata": {},
   "source": [
    "# Simple Input & Output\n",
    "\n",
    "In the textbook he uses some examples with Python 2, but since I am working in Jupyter Notebook with Python 3, I have modified the examples and the exercises for can apply these in my case."
   ]
  },
  {
   "cell_type": "code",
   "execution_count": 1,
   "id": "1e7fcff7",
   "metadata": {},
   "outputs": [
    {
     "name": "stdout",
     "output_type": "stream",
     "text": [
      "what is your name? Pepito\n",
      "Pepito\n",
      "<class 'str'>\n",
      "what is your sum? 12+5\n",
      "17\n",
      "<class 'int'>\n"
     ]
    }
   ],
   "source": [
    "#Inputs in Python 3\n",
    "\n",
    "#In Python 3 the input function works like raw_input in Python 2\n",
    "name = input( \"what is your name? \" )\n",
    "print(name)\n",
    "print(type(name))\n",
    "\n",
    "#In Python 3 the input function doesn't work like the input function in Python 2, \n",
    "#in change I can use the function eval(input()) like input() in Python 2\n",
    "count=eval(input( \"what is your sum? \" ))\n",
    "print(count)\n",
    "print(type(count))"
   ]
  },
  {
   "cell_type": "code",
   "execution_count": 2,
   "id": "de1f85ac",
   "metadata": {},
   "outputs": [
    {
     "name": "stdout",
     "output_type": "stream",
     "text": [
      "Hello, world \n",
      "2.71828\n",
      "Euler's number is approximately 2.71828 .\n",
      "\n",
      "\n",
      "Decimal: 3\n",
      "Floating Point, two decimal places: 3.14\n",
      "Scientific, two D.P, total width 10:   3.14e+00\n",
      "\n",
      "The sum of 3.142 and 2.718 is 5.860.\n"
     ]
    }
   ],
   "source": [
    "#Outputs in Python 3 compared to Python 2. \n",
    "\n",
    "#The form to use print change in Python 3. It's necessary add brackets () to print any variable.\n",
    "\n",
    "e = 2.71828\n",
    "print(\"Hello, world \")\n",
    "print(e)\n",
    "print(\"Euler's number is approximately\" , e , \".\")\n",
    "print(\"\\n\")\n",
    "\n",
    "#specify the format of the output\n",
    "pi = 3.141592\n",
    "print(\"Decimal: %d\" % pi)\n",
    "print(\"Floating Point, two decimal places: %0.2f\" % pi)\n",
    "print(\"Scientific, two D.P, total width 10: %10.2e\\n\" % pi)\n",
    "\n",
    "pi = 3.141592\n",
    "e = 2.718282\n",
    "sum = pi + e\n",
    "print(\"The sum of %0.3f and %0.3f is %0.3f.\" % ( pi , e , sum))"
   ]
  },
  {
   "cell_type": "markdown",
   "id": "2e449269",
   "metadata": {},
   "source": [
    "# Variables"
   ]
  },
  {
   "cell_type": "code",
   "execution_count": 3,
   "id": "d371d017",
   "metadata": {},
   "outputs": [
    {
     "name": "stdout",
     "output_type": "stream",
     "text": [
      "Save the variables\n",
      "5 5\n",
      "23 5\n",
      "24\n",
      "\n",
      "Saving the same data in multiple variables\n",
      "Dead Parrot Dead Parrot Dead Parrot Dead Parrot\n",
      "\n",
      "Assign multiples varibales and switching\n",
      "3 5\n",
      "5 3\n",
      "\n",
      "Example 1.3.2.\n",
      "1 1\n",
      "1 2\n",
      "\n",
      "#Complex numbers\n",
      "(0.5+1j) (1.5+3j)\n",
      "(2+4j) (-1-2j) (-2.25+3j) (0.3333333333333333+0j)\n",
      "\n",
      "#Matrix\n",
      "[[1, 0, 3], [4, 5, 6], [7, 8, 9]]\n",
      "[4, 5, 6]\n",
      "6\n",
      "\n",
      "#Ranges\n",
      "range(0, 10)\n",
      "0\n",
      "1\n",
      "2\n",
      "3\n",
      "4\n",
      "5\n",
      "6\n",
      "7\n",
      "8\n",
      "9\n",
      "range(6, 17, 2)\n",
      "6\n",
      "8\n",
      "10\n",
      "12\n",
      "14\n",
      "16\n",
      "\n",
      "List of Comprehesions\n",
      "Axis = [0.02*i for i in range (100)]\n",
      "[0.0, 0.02, 0.04, 0.06, 0.08, 0.1, 0.12, 0.14, 0.16, 0.18, 0.2, 0.22, 0.24, 0.26, 0.28, 0.3, 0.32, 0.34, 0.36, 0.38, 0.4, 0.42, 0.44, 0.46, 0.48, 0.5, 0.52, 0.54, 0.56, 0.58, 0.6, 0.62, 0.64, 0.66, 0.68, 0.7000000000000001, 0.72, 0.74, 0.76, 0.78, 0.8, 0.8200000000000001, 0.84, 0.86, 0.88, 0.9, 0.92, 0.9400000000000001, 0.96, 0.98, 1.0, 1.02, 1.04, 1.06, 1.08, 1.1, 1.12, 1.1400000000000001, 1.16, 1.18, 1.2, 1.22, 1.24, 1.26, 1.28, 1.3, 1.32, 1.34, 1.36, 1.3800000000000001, 1.4000000000000001, 1.42, 1.44, 1.46, 1.48, 1.5, 1.52, 1.54, 1.56, 1.58, 1.6, 1.62, 1.6400000000000001, 1.6600000000000001, 1.68, 1.7, 1.72, 1.74, 1.76, 1.78, 1.8, 1.82, 1.84, 1.86, 1.8800000000000001, 1.9000000000000001, 1.92, 1.94, 1.96, 1.98]\n"
     ]
    }
   ],
   "source": [
    "##Variables changes\n",
    "print(\"Save the variables\")\n",
    "x=5\n",
    "y=x\n",
    "\n",
    "print(x, y)\n",
    "\n",
    "x=23\n",
    "print(x, y)\n",
    "\n",
    "x=x+1\n",
    "print(x)\n",
    "\n",
    "print(\"\\nSaving the same data in multiple variables\")\n",
    "w = x = y = z = \"Dead Parrot\"\n",
    "print(w,x,y,z)\n",
    "\n",
    "print(\"\\nAssign multiples varibales and switching\")\n",
    "a,b = 3,5\n",
    "print(a,b)\n",
    "a,b=b,a\n",
    "print(a,b)\n",
    "\n",
    "print(\"\\nExample 1.3.2.\")\n",
    "a = b = 1\n",
    "print(a,b)\n",
    "a , b = b , a+b\n",
    "print(a,b)\n",
    "\n",
    "print(\"\\n#Complex numbers\")\n",
    "x = 0.5 + 1.0j\n",
    "y = 1.5 + 3.0j\n",
    "print(x,y)\n",
    "print(x+y, x-y, x*y, x/y)\n",
    "\n",
    "print(\"\\n#Matrix\")\n",
    "matrix = [ [ 1 , 2 , 3 ] , [ 4 , 5 , 6 ] , [ 7 , 8 , 9 ] ]\n",
    "matrix[0][1]=0\n",
    "print(matrix)\n",
    "print(matrix[1])\n",
    "print(matrix[1][2])\n",
    "\n",
    "print(\"\\n#Ranges\")\n",
    "axis= range(10)\n",
    "print(axis)\n",
    "for i in axis:\n",
    "    print(i)\n",
    "Evens = range( 6 , 17 , 2 )\n",
    "print(Evens)\n",
    "for i in Evens:\n",
    "    print(i)\n",
    "    \n",
    "print(\"\\nList of Comprehesions\")\n",
    "print(\"Axis = [0.02*i for i in range (100)]\")\n",
    "Axis = [0.02*i for i in range (100)]\n",
    "print(Axis)"
   ]
  },
  {
   "cell_type": "markdown",
   "id": "f638afa1",
   "metadata": {},
   "source": [
    "# Mathematical Operators"
   ]
  },
  {
   "cell_type": "code",
   "execution_count": 4,
   "id": "eb952e1a",
   "metadata": {},
   "outputs": [
    {
     "name": "stdout",
     "output_type": "stream",
     "text": [
      "Floor division\n",
      "Usual division: 3.6 Floor division: 3\n",
      "Module operation\n",
      "18%5= 3\n",
      "Exponentiation\n",
      "16\n"
     ]
    }
   ],
   "source": [
    "print(\"Floor division\")\n",
    "a=18/5\n",
    "b=18//5\n",
    "print(\"Usual division:\",a,\"Floor division:\",b)\n",
    "print(\"Module operation\")\n",
    "c=18%5\n",
    "print(\"18%5=\", c)\n",
    "print(\"Exponentiation\")\n",
    "Sixteen= 2**4\n",
    "print(Sixteen)"
   ]
  },
  {
   "cell_type": "markdown",
   "id": "e7c902fe",
   "metadata": {},
   "source": [
    "# Lines in Python"
   ]
  },
  {
   "cell_type": "code",
   "execution_count": 5,
   "id": "9f1eba8e",
   "metadata": {},
   "outputs": [
    {
     "name": "stdout",
     "output_type": "stream",
     "text": [
      "this line is a logical line.\n",
      "['this', 'line', 'is', 'both', 'also']\n",
      "['this', 'line', 'is', 'multiple', 'physical', 'lines', 'but', 'is', 'just', 'one', 'logical', 'line']\n"
     ]
    }
   ],
   "source": [
    "print(\"this line is a logical line.\")\n",
    "\n",
    "x = [\"this\", \"line\", \"is\", \"both\" , \"also\" ]\n",
    "print(x)\n",
    "\n",
    "x = [\"this\", \"line\", \"is\", \"multiple\",\n",
    "    \"physical\", \"lines\", \"but\", \"is\",\n",
    "    \"just\", \"one\", \"logical\", \"line\" ]\n",
    "print(x)"
   ]
  },
  {
   "cell_type": "markdown",
   "id": "f434ddcd",
   "metadata": {},
   "source": [
    "# Control Structure"
   ]
  },
  {
   "cell_type": "code",
   "execution_count": 6,
   "id": "36fad64a",
   "metadata": {},
   "outputs": [
    {
     "name": "stdout",
     "output_type": "stream",
     "text": [
      "FOR\n",
      "Yes John is a member of Monty Python's Flying Circus\n",
      "Yes Eric is a member of Monty Python's Flying Circus\n",
      "Yes Terry is a member of Monty Python's Flying Circus\n",
      "Yes Graham is a member of Monty Python's Flying Circus\n",
      "Yes Terry is a member of Monty Python's Flying Circus\n",
      "Yes Michael is a member of Monty Python's Flying Circus\n"
     ]
    }
   ],
   "source": [
    "print(\"FOR\")\n",
    "\n",
    "Cast=('John', 'Eric', 'Terry', 'Graham', 'Terry', 'Michael')\n",
    "for Name in Cast:\n",
    "    print('Yes', Name, \"is a member of Monty Python's Flying Circus\")\n",
    "    "
   ]
  },
  {
   "cell_type": "code",
   "execution_count": 7,
   "id": "2e01c27e",
   "metadata": {
    "scrolled": true
   },
   "outputs": [
    {
     "name": "stdout",
     "output_type": "stream",
     "text": [
      "WHILE\n",
      "\n",
      "Example 1.6.2.\n",
      "What integer do you want to check? 57\n",
      "57  is divisible by 3 .\n"
     ]
    }
   ],
   "source": [
    "print(\"WHILE\")\n",
    "print(\"\\nExample 1.6.2.\")    \n",
    "\"\"\"\n",
    "This Python program determines whether a number\n",
    "is prime or not . It is NOT the most efficient\n",
    "way of determining whether a large integer is\n",
    "prime !\n",
    "\"\"\"\n",
    "\n",
    "#Start by getting the number that might be prime .\n",
    "Number = eval(input ( \"What integer do you want to check? \" ))\n",
    "\n",
    "TestNumber = 2\n",
    "# Main loop to test each number\n",
    "while TestNumber < Number :\n",
    "    if(Number % TestNumber == 0):\n",
    "        # The remainder is zero, so TestNumber is a factor\n",
    "        # of Number and Number is not prime .\n",
    "        print(Number , \" is divisible by\" , TestNumber , \".\")\n",
    "        # There is no need to test further factors .\n",
    "        break\n",
    "    else:\n",
    "        # The remainder is NOT zero , so increment\n",
    "        # TestNumber to check the next possible factor.\n",
    "        TestNumber += 1\n",
    "else:\n",
    "    # We got here wi thout f i n d i n g a f a c t o r , so\n",
    "    # Number i s prime .\n",
    "    print(Number , \"is prime.\")"
   ]
  },
  {
   "cell_type": "code",
   "execution_count": 8,
   "id": "02eda4ea",
   "metadata": {},
   "outputs": [
    {
     "name": "stdout",
     "output_type": "stream",
     "text": [
      "IF, PASS & BREAK\n",
      "\n",
      "1\n",
      "2\n",
      "4\n",
      "5\n",
      "7\n",
      "8\n",
      "10\n",
      "11\n",
      "13\n",
      "14\n"
     ]
    }
   ],
   "source": [
    "print(\"IF, PASS & BREAK\\n\")\n",
    "for i in range(20):\n",
    "    if i%3==0:\n",
    "        pass\n",
    "    elif i==16:\n",
    "        break\n",
    "    else:\n",
    "        print(i)"
   ]
  },
  {
   "cell_type": "markdown",
   "id": "54ca0950",
   "metadata": {},
   "source": [
    "# Functions"
   ]
  },
  {
   "cell_type": "code",
   "execution_count": 9,
   "id": "3b6b63ec",
   "metadata": {},
   "outputs": [
    {
     "name": "stdout",
     "output_type": "stream",
     "text": [
      "Passing functions\n",
      "\n",
      "Python treats functions just like any other variable.\n",
      "\n",
      "0.49999999999999994\n",
      "0.8660254037844387\n",
      "0.5773502691896257\n"
     ]
    },
    {
     "data": {
      "image/png": "[encoded data removed]",
      "text/plain": [
       "<Figure size 432x288 with 1 Axes>"
      ]
     },
     "metadata": {
      "needs_background": "light"
     },
     "output_type": "display_data"
    }
   ],
   "source": [
    "print(\"Passing functions\\n\")\n",
    "print(\"Python treats functions just like any other variable.\\n\")\n",
    "\n",
    "import matplotlib.pyplot as plt\n",
    "import numpy as np\n",
    "\n",
    "pi=np.pi\n",
    "\n",
    "def plottrig(f):\n",
    "    # this function takes one argument, which must be a function\n",
    "    # to be plotted on the range -pi . . pi .\n",
    "    xvalues=np.linspace(-pi, pi, 100)\n",
    "    plt.plot(xvalues, f(xvalues))\n",
    "    plt.xlim(-pi, pi)\n",
    "    plt.ylim(-2,2)\n",
    "\n",
    "trigfunctions=(np.sin, np.cos, np.tan)\n",
    "\n",
    "for function in trigfunctions:\n",
    "    # trigfunctions is a list of functions, so this for loop does things\n",
    "    # with each function in the list.\n",
    "    print(function(pi/6.0))\n",
    "    plottrig(function)\n",
    "    \n",
    "plt.legend(trigfunctions, loc='upper right')\n",
    "plt.show()"
   ]
  },
  {
   "cell_type": "markdown",
   "id": "b2a00792",
   "metadata": {},
   "source": [
    "# Expanding Python\n",
    "\n",
    "For simulated the bash we use the IPython commands with **!** for simulated the bash. I write the code **add.py** in a external file saved in the folder resource.\n",
    "\n",
    "\n",
    "**add.py**\n",
    "```python\n",
    "import sys\n",
    "x = float(sys.argv[1]) # Note that the items in argv [ ]\n",
    "y = float(sys.argv[2]) # are strings!\n",
    "print(\"%0.3f + %0.3f = %0.3f \" % (x, y, (x+y)))\n",
    "```"
   ]
  },
  {
   "cell_type": "code",
   "execution_count": 10,
   "id": "621b29ff",
   "metadata": {},
   "outputs": [
    {
     "name": "stdout",
     "output_type": "stream",
     "text": [
      "35.000 + 7.000 = 42.000 \n",
      "3.000 + 75.000 = 78.000 \n",
      "333.000 + 222.000 = 555.000 \n"
     ]
    }
   ],
   "source": [
    "!python resource/add.py 35 7\n",
    "\n",
    "!python resource/add.py 3 75\n",
    "\n",
    "!python resource/add.py 333 222"
   ]
  },
  {
   "cell_type": "markdown",
   "id": "97bf3c65",
   "metadata": {},
   "source": [
    "# Problems\n",
    "\n",
    "**1-0** Use a list comprehension to create a list of squares of the numbers\n",
    "between 10 and 20, including the endpoints.\n",
    "\n",
    "**SOLUTION:**"
   ]
  },
  {
   "cell_type": "code",
   "execution_count": 11,
   "id": "86c2b2a2",
   "metadata": {},
   "outputs": [
    {
     "name": "stdout",
     "output_type": "stream",
     "text": [
      "Squares:  [100, 121, 144, 169, 196, 225, 256, 289, 324, 361, 400]\n"
     ]
    }
   ],
   "source": [
    "squares = [i*i for i in range(10,21)]\n",
    "print(\"Squares: \", squares)"
   ]
  },
  {
   "cell_type": "markdown",
   "id": "fa21efbf",
   "metadata": {},
   "source": [
    "**1-1** Write a Python program to print out the first N numbers in the Fibonacci\n",
    "sequence. The program should ask the user for N, and should\n",
    "require that N be greater than 2.\n",
    "\n",
    "**SOLUTION:**"
   ]
  },
  {
   "cell_type": "code",
   "execution_count": 57,
   "id": "95e5a625",
   "metadata": {},
   "outputs": [
    {
     "name": "stdout",
     "output_type": "stream",
     "text": [
      "First N numbers in the Fibonacci sequence\n",
      "What is the numbers of fibonacci do you want? 20\n",
      "1 position Fibonnaci number= 1\n",
      "2 position Fibonnaci number= 1\n",
      "3 position Fibonnaci number= 2\n",
      "4 position Fibonnaci number= 3\n",
      "5 position Fibonnaci number= 5\n",
      "6 position Fibonnaci number= 8\n",
      "7 position Fibonnaci number= 13\n",
      "8 position Fibonnaci number= 21\n",
      "9 position Fibonnaci number= 34\n",
      "10 position Fibonnaci number= 55\n",
      "11 position Fibonnaci number= 89\n",
      "12 position Fibonnaci number= 144\n",
      "13 position Fibonnaci number= 233\n",
      "14 position Fibonnaci number= 377\n",
      "15 position Fibonnaci number= 610\n",
      "16 position Fibonnaci number= 987\n",
      "17 position Fibonnaci number= 1597\n",
      "18 position Fibonnaci number= 2584\n",
      "19 position Fibonnaci number= 4181\n",
      "20 position Fibonnaci number= 6765\n"
     ]
    }
   ],
   "source": [
    "def fibonacci(N):\n",
    "    sum0=0\n",
    "    sum1=1\n",
    "    for i in range(N):\n",
    "        sum0, sum1 = sum1, sum0+sum1\n",
    "        print(\"%d position Fibonnaci number= %d\" % (i+1,  sum0))\n",
    "        \n",
    "print(\"First N numbers in the Fibonacci sequence\")        \n",
    "number = eval(input( \"What is the numbers of fibonacci do you want? \" ))\n",
    "\n",
    "if number>=2:\n",
    "    fibonacci(number)\n",
    "else:\n",
    "    print(\"Include a number greater than 2!!!!!\")"
   ]
  },
  {
   "cell_type": "markdown",
   "id": "9ae14f0f",
   "metadata": {},
   "source": [
    "**1-2** For the model used in introductory physics courses, a projectile thrown\n",
    "vertically at some initial velocity vi has position $y(t) = y_i + v_i(t) - \\frac{1}{2}gt^2$,\n",
    "where $g = 9.8 m/s2$. Write a Python program that creates two lists,\n",
    "one containing time data (50 data points over 5 seconds) and the other\n",
    "containing the corresponding vertical position data for this projectile.\n",
    "The program should ask the user for the initial height yi and initial\n",
    "velocity vi, and should print a nicely-formatted table of the list values\n",
    "after it has calculated them.\n",
    "\n",
    "**SOLUTION:**"
   ]
  },
  {
   "cell_type": "code",
   "execution_count": 39,
   "id": "25ed46af",
   "metadata": {},
   "outputs": [
    {
     "name": "stdout",
     "output_type": "stream",
     "text": [
      "Free fall simulation\n",
      "What is the initial position that do you want (in m)? 40\n",
      "What is the initial velocity that do you want? (in m/s)40\n",
      "  0. 40.00 m, 40.00 m/s, -9.8 m/s2\n",
      "  1. 44.03 m, 39.00 m/s, -9.8 m/s2\n",
      "  2. 47.96 m, 38.00 m/s, -9.8 m/s2\n",
      "  3. 51.79 m, 37.00 m/s, -9.8 m/s2\n",
      "  4. 55.51 m, 36.00 m/s, -9.8 m/s2\n",
      "  5. 59.13 m, 35.00 m/s, -9.8 m/s2\n",
      "  6. 62.65 m, 34.00 m/s, -9.8 m/s2\n",
      "  7. 66.07 m, 33.00 m/s, -9.8 m/s2\n",
      "  8. 69.39 m, 32.00 m/s, -9.8 m/s2\n",
      "  9. 72.60 m, 31.00 m/s, -9.8 m/s2\n",
      " 10. 75.71 m, 30.00 m/s, -9.8 m/s2\n",
      " 11. 78.72 m, 29.00 m/s, -9.8 m/s2\n",
      " 12. 81.63 m, 28.00 m/s, -9.8 m/s2\n",
      " 13. 84.44 m, 27.00 m/s, -9.8 m/s2\n",
      " 14. 87.14 m, 26.00 m/s, -9.8 m/s2\n",
      " 15. 89.74 m, 25.00 m/s, -9.8 m/s2\n",
      " 16. 92.24 m, 24.00 m/s, -9.8 m/s2\n",
      " 17. 94.64 m, 23.00 m/s, -9.8 m/s2\n",
      " 18. 96.94 m, 22.00 m/s, -9.8 m/s2\n",
      " 19. 99.13 m, 21.00 m/s, -9.8 m/s2\n",
      " 20. 101.22 m, 20.00 m/s, -9.8 m/s2\n",
      " 21. 103.21 m, 19.00 m/s, -9.8 m/s2\n",
      " 22. 105.10 m, 18.00 m/s, -9.8 m/s2\n",
      " 23. 106.89 m, 17.00 m/s, -9.8 m/s2\n",
      " 24. 108.57 m, 16.00 m/s, -9.8 m/s2\n",
      " 25. 110.15 m, 15.00 m/s, -9.8 m/s2\n",
      " 26. 111.63 m, 14.00 m/s, -9.8 m/s2\n",
      " 27. 113.01 m, 13.00 m/s, -9.8 m/s2\n",
      " 28. 114.29 m, 12.00 m/s, -9.8 m/s2\n",
      " 29. 115.46 m, 11.00 m/s, -9.8 m/s2\n",
      " 30. 116.53 m, 10.00 m/s, -9.8 m/s2\n",
      " 31. 117.50 m, 9.00 m/s, -9.8 m/s2\n",
      " 32. 118.37 m, 8.00 m/s, -9.8 m/s2\n",
      " 33. 119.13 m, 7.00 m/s, -9.8 m/s2\n",
      " 34. 119.80 m, 6.00 m/s, -9.8 m/s2\n",
      " 35. 120.36 m, 5.00 m/s, -9.8 m/s2\n",
      " 36. 120.82 m, 4.00 m/s, -9.8 m/s2\n",
      " 37. 121.17 m, 3.00 m/s, -9.8 m/s2\n",
      " 38. 121.43 m, 2.00 m/s, -9.8 m/s2\n",
      " 39. 121.58 m, 1.00 m/s, -9.8 m/s2\n",
      " 40. 121.63 m, -0.00 m/s, -9.8 m/s2\n",
      " 41. 121.58 m, -1.00 m/s, -9.8 m/s2\n",
      " 42. 121.43 m, -2.00 m/s, -9.8 m/s2\n",
      " 43. 121.17 m, -3.00 m/s, -9.8 m/s2\n",
      " 44. 120.82 m, -4.00 m/s, -9.8 m/s2\n",
      " 45. 120.36 m, -5.00 m/s, -9.8 m/s2\n",
      " 46. 119.80 m, -6.00 m/s, -9.8 m/s2\n",
      " 47. 119.13 m, -7.00 m/s, -9.8 m/s2\n",
      " 48. 118.37 m, -8.00 m/s, -9.8 m/s2\n",
      " 49. 117.50 m, -9.00 m/s, -9.8 m/s2\n"
     ]
    },
    {
     "data": {
      "image/png": "[encoded data removed]",
      "text/plain": [
       "<Figure size 432x288 with 3 Axes>"
      ]
     },
     "metadata": {
      "needs_background": "light"
     },
     "output_type": "display_data"
    }
   ],
   "source": [
    "print(\"Free fall simulation\")        \n",
    "yi = eval(input( \"What is the initial position that do you want (in m)? \" ))\n",
    "vi = eval(input( \"What is the initial velocity that do you want? (in m/s)\" ))\n",
    "\n",
    "g=-9.8\n",
    "t = np.linspace(0, 5, 50)\n",
    "# print(t)\n",
    "\n",
    "a=t*0+g\n",
    "v=vi + a*t\n",
    "y=yi + vi*t + 0.5*a*t*t\n",
    "\n",
    "for step in range(len(t)):\n",
    "    print(\"%3d. %4.2f m, %3.2f m/s, %1.1f m/s2\" % (step, y[step], v[step], a[step]))\n",
    "\n",
    "fig, axs = plt.subplots(3, 1, sharex=True)\n",
    "fig.suptitle('Object in free-fall for HV', fontsize=16)\n",
    "axs[0].set_xlim(0, 5)\n",
    "plt.xticks(np.arange(min(t), max(t)+1, 1))\n",
    "\n",
    "#Plot the position\n",
    "axs[0].plot(t, y, 'ro', ls='-')\n",
    "axs[0].set_ylim(min(y), max(y))\n",
    "axs[0].set_yticks(np.arange(min(y), max(y)+1, (max(y)-min(y))/5))\n",
    "axs[0].set_ylabel(\"Position (m)\", fontsize=8)\n",
    "\n",
    "#Plot the velocity\n",
    "axs[1].plot(t, v, 'bo', ls='-')\n",
    "axs[1].set_ylim(min(v), max(v))\n",
    "axs[1].set_yticks(np.arange(min(v), max(v)+1, (max(v)-min(v))/5))\n",
    "axs[1].set_ylabel(\"Velocity (m/s)\", fontsize=8)\n",
    "\n",
    "#Plot the acceleration\n",
    "axs[2].plot(t, a, 'go', ls='-')\n",
    "axs[2].set_xlabel(\"Time (s)\")\n",
    "axs[2].set_ylim(-15, 0)\n",
    "axs[2].set_ylabel(\"Acceleration ($m/s^2$)\", fontsize=8)\n",
    "\n",
    "plt.show()"
   ]
  },
  {
   "cell_type": "markdown",
   "id": "d17f717c",
   "metadata": {},
   "source": [
    "**1-3**The energy levels for a quantum particle in a three-dimensional rectangular\n",
    "box of dimensions {L1, L2, and L3} are given by\n",
    "\n",
    "$$E_{n_1, n_2, n_3} = \\frac{\\hbar^2 \\pi^2}{2m} \\left( \\frac{n_1^2}{L_1^2} + \\frac{n_2^2}{L_2^2} + \\frac{n_3^2}{L_3^2} \\right)$$\n",
    "\n",
    "where the n's are integers greater than or equal to one. Write a program\n",
    "that will calculate, and list in order of increasing energy, the\n",
    "values of the n's for the 10 lowest different energy levels, given a box\n",
    "for which L2 = 2L1 and L3 = 4L1."
   ]
  },
  {
   "cell_type": "markdown",
   "id": "88e8d59b",
   "metadata": {},
   "source": [
    "**SOLUTION**\n",
    "\n",
    "In first time, we rewrite the equation with the constrains mentioned an the equation takes the form:\n",
    "\n",
    "$$E_{n_1, n_2, n_3} = \\frac{\\hbar^2 \\pi^2}{2m L_1^2} \\left( n_1^2 + \\frac{n_2^2}{4} + \\frac{n_3^2}{16} \\right)$$\n",
    "\n",
    "Then the work consist in find the numbers $n_i$ with condition $\\left( n_1^2 + \\frac{n_2^2}{4} + \\frac{n_3^2}{16} \\right)$ are minimum. With the condition tan $n_i >= 1$ and all number are integers, the first element are when all $n_i =1$ because is a sum the value can't be smaller.\n",
    "\n",
    "To find the next number we create an array with all energy levels from all steps (in this case ten) and compare the sum with each other to sort them, and compare all sums to choice the minimum values for print this energy levels."
   ]
  },
  {
   "cell_type": "code",
   "execution_count": 3,
   "id": "930bdb77",
   "metadata": {
    "scrolled": false
   },
   "outputs": [
    {
     "name": "stdout",
     "output_type": "stream",
     "text": [
      "Calculate increasing energies\n",
      "Assign first element\n",
      "1 1 1\n",
      "Number of energies in array: 1000\n",
      "0.0\n",
      "1.0\n",
      "2.0\n",
      "3.0\n",
      "4.0\n",
      "5.0\n",
      "6.0\n",
      "7.0\n",
      "8.0\n",
      "9.0\n",
      "Calculating minimun values\n",
      "Energy   n1   n2   n3   sum\n",
      "E0       1    1    1    1.31\n",
      "E1       1    1    2    1.50\n",
      "E2       1    1    3    1.81\n",
      "E3       1    2    1    2.06\n",
      "E4       1    1    4    2.25\n",
      "E5       1    2    2    2.25\n",
      "E6       1    2    3    2.56\n",
      "E7       1    1    5    2.81\n",
      "E8       1    2    4    3.00\n",
      "E9       1    3    1    3.31\n"
     ]
    }
   ],
   "source": [
    "print(\"Calculate increasing energies\")\n",
    "\n",
    "print(\"Assign first element\")\n",
    "n1,n2,n3=1,1,1\n",
    "steps=10\n",
    "\n",
    "print(n1, n2, n3)\n",
    "\n",
    "def integer_sum(a,b,c):\n",
    "    sum= (a*a + b*b/4 + c*c/16)\n",
    "    return sum\n",
    "\n",
    "##Find ALL energy values\n",
    "energies=[]\n",
    "for i in range(steps):\n",
    "    for j in range(steps):\n",
    "        for k in range(steps):\n",
    "            n1, n2, n3 = 1+i, 1+j, 1+k\n",
    "            energies.append([n1, n2, n3, integer_sum(n1, n2, n3)])\n",
    "\n",
    "##Sort the energy levels\n",
    "print(\"Number of energies in array:\",len(energies))  \n",
    "for i in range(len(energies)):\n",
    "    if i%(steps*steps)==0:\n",
    "        print(i/(steps*steps)) #To know the approximately the sort step\n",
    "        \n",
    "    for j in range(i):\n",
    "#         print(i, energies[i], j, energies[j])\n",
    "        if energies[i][3]<energies[j][3]:\n",
    "            energies[i],energies[j]=energies[j],energies[i] # To change the order in array  \n",
    "                                                            # and put the elements in this place\n",
    "print(\"Calculating minimun values\")\n",
    "print(\"Energy   n1   n2   n3   sum\")\n",
    "\n",
    "for i in range(steps):\n",
    "    print(\"E%d %7d %4d %4d %7.2f\" %(i, energies[i][0], energies[i][1] ,energies[i][2], energies[i][3]))"
   ]
  }
 ],
 "metadata": {
  "kernelspec": {
   "display_name": "Python 3",
   "language": "python",
   "name": "python3"
  },
  "language_info": {
   "codemirror_mode": {
    "name": "ipython",
    "version": 3
   },
   "file_extension": ".py",
   "mimetype": "text/x-python",
   "name": "python",
   "nbconvert_exporter": "python",
   "pygments_lexer": "ipython3",
   "version": "3.8.8"
  }
 },
 "nbformat": 4,
 "nbformat_minor": 5
}
