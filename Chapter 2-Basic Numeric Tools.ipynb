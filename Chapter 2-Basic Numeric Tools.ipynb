{
 "cells": [
  {
   "cell_type": "markdown",
   "id": "10b006f3",
   "metadata": {},
   "source": [
    "# Bisection Method\n",
    "\n",
    "1. Start with two guesses on either side of the root, \n",
    "we'll call the guess to the left of the root a and the guess to the right of the root b.\n",
    "2. Find the value of the function at the midpoint x between a and b.\n",
    "3. Compare the signs of f(x) and f(a): if the signs are different, then the root\n",
    "must be between a and x, so let b = x. If the signs are the same, then the\n",
    "root must be between x and b, so let a = x.\n",
    "4. Repeat this process until the distance between a and b is less than the desired tolerance\n",
    "for your solution."
   ]
  },
  {
   "cell_type": "code",
   "execution_count": 12,
   "id": "f783194c",
   "metadata": {},
   "outputs": [
    {
     "name": "stdout",
     "output_type": "stream",
     "text": [
      "Enter guessess a (positive value for root):2\n",
      "Enter guessess b (negative value for function):1\n",
      "Found f(x)=0 at x=1.69460011 +/- 0.00000100\n",
      "f(x)= -2.1972592820773684e-06\n"
     ]
    }
   ],
   "source": [
    "\"\"\"\n",
    "This program uses the bisection method to find the root\n",
    "of f(x) = exp (x)* ln(x) - x*x = 0.\n",
    "\"\"\"\n",
    "from math import * # math functions and constants\n",
    "\n",
    "tolerance=1.0e-6 #solution tolerance.\n",
    "\n",
    "#function definition to calculate the root\n",
    "def f(x):\n",
    "    f=exp(x)*log(x)-x*x\n",
    "    return f\n",
    "\n",
    "#Definition of a & b\n",
    "root_positive, root_negative=-1, 1\n",
    "while root_positive<0:\n",
    "    a=eval(input(\"Enter guessess a (positive value for root):\"))\n",
    "    root_positive=f(a)\n",
    "while root_negative>0:\n",
    "    b=eval(input(\"Enter guessess b (negative value for function):\"))\n",
    "    root_negative=f(b)    \n",
    "# a , b =eval(input(\"Enter two guessess, separated by commas:\"))\n",
    "\n",
    "dx = abs(b-a)  #Inital value of dx\n",
    "\n",
    "##Bisection method\n",
    "while dx>tolerance:\n",
    "    x=(a+b)*0.5\n",
    "    if(f(a)*f(x)<0):\n",
    "        b=x\n",
    "    else:\n",
    "        a=x\n",
    "    dx=abs(b-a)\n",
    "    \n",
    "print('Found f(x)=0 at x=%.8f +/- %0.8f' % (x, tolerance))\n",
    "print(\"f(x)=\",f(x))"
   ]
  },
  {
   "cell_type": "code",
   "execution_count": 3,
   "id": "fd8840cf",
   "metadata": {
    "scrolled": true
   },
   "outputs": [
    {
     "name": "stdout",
     "output_type": "stream",
     "text": [
      "1.5707963267948966\n",
      "3.141592653589793\n",
      "\n",
      "External file bisection method:\n",
      "def root_bisection(f, a, b, tolerance=1.0e-6):\n",
      "    \"\"\"\n",
      "    Uses the bisection method to find a value x between a and b\n",
      "    for which f(x)=0 , to with in the tolerance given .\n",
      "    Default tolerance is 1.0e-6, if no tolerenace is specified in\n",
      "    the function call.\n",
      "    \"\"\"\n",
      "\n",
      "    dx = abs(b-a)  #Inital value of dx\n",
      "\n",
      "    ##Bisection method\n",
      "    while dx>tolerance:\n",
      "        x=(a+b)*0.5\n",
      "        if(f(a)*f(x)<0):\n",
      "            b=x\n",
      "        else:\n",
      "            a=x\n",
      "        dx=abs(b-a)\n",
      "\n",
      "        return x\n"
     ]
    }
   ],
   "source": [
    "from math import *\n",
    "from resource import root_bisection as rb\n",
    "\n",
    "theta0 = rb.root_bisection(cos, 0, pi)\n",
    "\n",
    "print(theta0)\n",
    "print(theta0*2)\n",
    "\n",
    "print(\"\\nExternal file bisection method:\")\n",
    "!type .\\resource\\root_bisection.py"
   ]
  },
  {
   "cell_type": "markdown",
   "id": "c0416626",
   "metadata": {},
   "source": [
    "# Problems\n",
    "**2-0.** Write a generalized function implementing the secant method of root-\n",
    "finding, similar to example 2.0.2.\n",
    "\n",
    "**SOLUTION:** The secant method is similar to Newton method:\n",
    "\n",
    "$$x_{n+1} = x_n - \\frac{f(x_n)}{f'(x_n)}$$\n",
    "\n",
    "but if we take the derivate definiton we have:\n",
    "$$f'(x_n) = \\lim_{x_{n-1} \\rightarrow x_n}\\frac{f(x_{n-1})-f(x_n)}{x_{n-1}-x_n}$$\n",
    "\n",
    "but in this method we don't use the limit for the new iteration, then obtain the algorithmic to apply, the secant method\n",
    "\n",
    "$$x_{n+1} = x_n - \\frac{x_{n-1}-x_n}{f(x_{n-1})-f(x_n)} f(x_n)$$\n",
    "\n",
    "in this case we don't need to know the derivate of function $f(x)$ to apply the method"
   ]
  },
  {
   "cell_type": "code",
   "execution_count": 1,
   "id": "853b929a",
   "metadata": {},
   "outputs": [
    {
     "name": "stdout",
     "output_type": "stream",
     "text": [
      "Secant method of root  finding\n",
      "Probe function x^2=2\n",
      "0 1\n",
      "1 2.0\n",
      "2.0 1.3333333333333335\n",
      "1.3333333333333335 1.4000000000000001\n",
      "1.4000000000000001 1.4146341463414633\n",
      "1.4146341463414633 1.41421143847487\n",
      "1.41421143847487 1.4142135620573204\n",
      "The root of funtion is: 1.4142135623730954\n",
      "1.4142135623730954 2.000000000000001\n"
     ]
    }
   ],
   "source": [
    "print(\"Secant method of root  finding\")\n",
    "from math import * \n",
    "\n",
    "##Define secant method\n",
    "def secant(f, xnm1, xn, tolerance=1.0e-6):\n",
    "    while abs(xnm1-xn)>tolerance:\n",
    "        print (xnm1,xn)\n",
    "        xnm1,xn=xn,xn-((xn-xnm1)/(f(xn)-f(xnm1)))*f(xn)\n",
    "    return xn\n",
    "    \n",
    "print(\"Probe function x^2=2\")\n",
    "def f(x):\n",
    "    return x*x-2\n",
    "\n",
    "root=secant(f, 0, 1)\n",
    "\n",
    "print(\"The root of funtion is:\", root)\n",
    "print(root, root*root)"
   ]
  },
  {
   "cell_type": "markdown",
   "id": "298c433d",
   "metadata": {},
   "source": [
    "**2-1.** Write a program that uses the trapezoid method to return the integral\n",
    "of a function over a given range, using a given number of sample points.\n",
    "The actual calculation should be a function of the form int_trap(f ,dx),\n",
    "where f is a list of function values and dx is the slice width.\n",
    "\n",
    "**SOLUTION:** For apply the trapezoid method we use the approximation on the right part of relation , which is similar for the integral definition\n",
    "\n",
    "$$\\int_a^b f(x) dx \\approx \\sum_i^N \\frac{f(x_i)+f(x_{i-1})}{2} \\Delta x$$\n",
    "\n",
    "Then for work with this method we only knows the points to evaluate $x_i$ and the form of the function $f(x)$ to deploy this method"
   ]
  },
  {
   "cell_type": "code",
   "execution_count": 24,
   "id": "f5013c93",
   "metadata": {},
   "outputs": [
    {
     "name": "stdout",
     "output_type": "stream",
     "text": [
      "Trapezoid method for integral calcuation\n",
      "x: [1.5707963267948966, 1.7278759594743862, 1.8849555921538759, 2.0420352248333655, 2.199114857512855, 2.356194490192345, 2.5132741228718345, 2.670353755551324, 2.827433388230814, 2.9845130209103035, 3.141592653589793]\n",
      "The integral for function in range 1.570796 to 3.141593 is: 0.997943\n"
     ]
    }
   ],
   "source": [
    "print(\"Trapezoid method for integral calcuation\")\n",
    "from math import * \n",
    "\n",
    "##Trapezoid method\n",
    "def int_trap(f, dx):\n",
    "    int_sum=0.0\n",
    "    for i in range(len(dx)):\n",
    "#         print(i)\n",
    "        int_sum=int_sum + (f[i]+f[i+1])*dx[i]/2\n",
    "    return int_sum\n",
    "    \n",
    "###Definition of partition\n",
    "n_partition=10\n",
    "a=pi*0.5     #Initial point\n",
    "b=pi   #Final point\n",
    "x=[a+((b-a)*i/n_partition) for i in range(n_partition+1)] # x from pi/2 to pi\n",
    "# x=[i*pi/n_partition for i in range(n_partition+1)] # x from 0 to pi/2\n",
    "dx=[x[i+1]-x[i] for i in range(n_partition)]\n",
    "print(\"x:\", x)\n",
    "\n",
    "###Definition for the function\n",
    "def f(x):\n",
    "    return sin(x)\n",
    "\n",
    "fx=[f(x[i]) for i in range(n_partition+1)]\n",
    "\n",
    "integral=int_trap(fx, dx)\n",
    "\n",
    "print(\"The integral for function in range %f to %f is: %f\" % (x[0], x[n_partition], integral))"
   ]
  },
  {
   "cell_type": "markdown",
   "id": "7705d4f0",
   "metadata": {},
   "source": [
    "**2-2** Compare the results of the simple integration method, the trapezoid\n",
    "integration method from problem 1, and Simpson's method of integration\n",
    "for the following integrals:\n",
    "\n",
    "* a) $$\\int_0^{\\pi/2} \\cos(x) dx$$\n",
    "* b) $$\\int_1^3 \\frac{1}{x^2} dx$$\n",
    "* c) $$\\int_2^4 (x^2+x+1) dx$$\n",
    "* d) $$\\int_0^{6.9} \\cos \\left(\\frac{\\pi}{2} x^2\\right) dx$$\n",
    "\n",
    "For each part, try it with more and with fewer slices to determine\n",
    "how many slices are required to give an 'acceptable' answer. (If you\n",
    "double the number of slices and still get the same answer, then try half\n",
    "as many, etc. Parts (c) and (d) are particularly interesting in this\n",
    "regard. In your submitted work, describe roughly how many points\n",
    "were required, and explain.\n",
    "\n",
    "Note: The function in (d) is the Fresnel Cosine Integral, used in optics.\n",
    "It may be helpful in understanding what's going on with your\n",
    "integration if you make a graph of the function. For more information\n",
    "on this function, see [13]."
   ]
  },
  {
   "cell_type": "markdown",
   "id": "20804713",
   "metadata": {},
   "source": [
    "**SOLUTION:** The using methods using are\n",
    "\n",
    "*SIMPLE INTEGRAL METHOD*\n",
    "\n",
    "$$\\int_a^b f(x) dx \\approx \\sum_i f(x_i) \\Delta x$$\n",
    "\n",
    "*TRAPEZOID METHOD*\n",
    "$$\\int_a^b f(x) dx \\approx \\sum_i^N \\frac{f(x_i)+f(x_{i-1})}{2} \\Delta x$$\n",
    "\n",
    "*SIMPSON METHOD*\n",
    "\n",
    "$$\\int_a^b f(x) dx \\approx \\frac{\\Delta x}{3}\\sum_{k=odd}^{N-1} (f(x_{k-1}) + 4f(x_{k})+f(x_{k+1}) ) $$\n",
    "In simpson method we are restricted to use a even number of slices.\n",
    "\n",
    "In first time we write the code of the methods in diferents functions"
   ]
  },
  {
   "cell_type": "code",
   "execution_count": 9,
   "id": "bcbe06c8",
   "metadata": {},
   "outputs": [],
   "source": [
    "##Simple integral method\n",
    "def simple(f, dx):\n",
    "    int_sum=0.0\n",
    "    for i in range(len(dx)):\n",
    "        int_sum=int_sum + (f[i])*dx[i]\n",
    "    return int_sum    \n",
    "\n",
    "##Trapezoid method\n",
    "def trapezoid(f, dx):\n",
    "    int_sum=0.0\n",
    "    for i in range(len(dx)):\n",
    "        int_sum=int_sum + (f[i]+f[i+1])*dx[i]/2\n",
    "    return int_sum\n",
    "\n",
    "def simpson(f, dx):\n",
    "    int_sum=0.0\n",
    "    number_slices=len(dx)\n",
    "    for i in range(1, number_slices, 2):\n",
    "        int_sum=int_sum + (dx[i]/3)* (f[i-1] + 4*f[i]+ f[i+1])\n",
    "    if number_slices%2==0:\n",
    "        return int_sum\n",
    "    else:\n",
    "        last_slice=(dx[number_slices]/12)*(5*f[number_slices] + 8*f[number_slices-1]- f[number_slices-2]) \n",
    "        int_sum=int_sum-last_slice \n",
    "        return int_sum\n",
    "    \n",
    "    \n",
    "from math import * \n",
    "import time\n",
    "\n",
    "##########################################\n",
    "###Definition partition function\n",
    "# x from a to b with n_partition slices\n",
    "def partition_function(a,b,n_partition):\n",
    "    x=[a+((b-a)*i/n_partition) for i in range(n_partition+1)] \n",
    "    dx=[x[i+1]-x[i] for i in range(n_partition)]\n",
    "#     print(\"x:\", x)\n",
    "    return x, dx\n",
    "\n",
    "###Function for add an specified method\n",
    "def integration_method(method, n_partition, name_method, a, b, true_value=0):\n",
    "    t0=time.time()\n",
    "    x, dx=partition_function(a, b, n_partition)\n",
    "    fx=[f(x[i]) for i in range(n_partition+1)]\n",
    "\n",
    "    integral=method(fx, dx)\n",
    "    error=abs(integral-true_value)\n",
    "    print(\"The integral for function in range %.3f to %.3f with %d slices for %s integral method is: %f\" % \n",
    "          (x[0], x[n_partition], n_partition, name_method, integral))\n",
    "    print(\"The error compared with the analitical solution is: %.8f\" % error)\n",
    "    print(\"Time spent in function %s integral method %.3f seconds. \\n\" % (name_method, time.time()-t0))"
   ]
  },
  {
   "cell_type": "markdown",
   "id": "510c1776",
   "metadata": {},
   "source": [
    "**a)** $$\\int_0^{\\pi/2} \\cos(x) dx$$\n",
    "\n",
    "The solution analitical is:\n",
    "\n",
    "$$\\int_0^{\\pi/2} \\cos(x) dx = \\sin(x)\\bigg|_0^{\\pi/2} = \\sin(\\pi/2) - \\sin(0) = 1-0$$\n",
    "\n",
    "$$\\int_0^{\\pi/2} \\cos(x) dx = 1$$\n",
    "\n",
    "\n",
    "To deploy the methods we use $f(x)=\\cos(x)$, and we obtain an error less an $10^{-6}$"
   ]
  },
  {
   "cell_type": "code",
   "execution_count": 10,
   "id": "aff4e2b5",
   "metadata": {},
   "outputs": [
    {
     "name": "stdout",
     "output_type": "stream",
     "text": [
      "The integral for function in range 0.000 to 1.571 with 1000000 slices for simple integral method is: 1.000001\n",
      "The error compared with the analitical solution is: 0.00000079\n",
      "Time spent in function simple integral method 0.858 seconds. \n",
      "\n",
      "The integral for function in range 0.000 to 1.571 with 1000 slices for trapezoid integral method is: 1.000000\n",
      "The error compared with the analitical solution is: 0.00000021\n",
      "Time spent in function trapezoid integral method 0.001 seconds. \n",
      "\n",
      "The integral for function in range 0.000 to 1.571 with 20 slices for simpson integral method is: 1.000000\n",
      "The error compared with the analitical solution is: 0.00000021\n",
      "Time spent in function simpson integral method 0.000 seconds. \n",
      "\n"
     ]
    }
   ],
   "source": [
    "###Definition for the function\n",
    "def f(x):\n",
    "    return cos(x)\n",
    "\n",
    "analitical_solution=1.0\n",
    "\n",
    "integration_method(simple, 1000000, 'simple', 0, pi/2, analitical_solution)\n",
    "integration_method(trapezoid, 1000, 'trapezoid', 0, pi/2, analitical_solution)\n",
    "integration_method(simpson, 20, 'simpson', 0, pi/2, analitical_solution)"
   ]
  },
  {
   "cell_type": "markdown",
   "id": "4acfdee9",
   "metadata": {},
   "source": [
    "**b)** $$\\int_1^3 \\frac{1}{x^2} dx$$\n",
    "\n",
    "The solution analitical is:\n",
    "\n",
    "$$\\int_1^3 \\frac{1}{x^2} dx= \\int_1^3 x^{-2} dx = \\int_1^3 \\frac{x^{-1}}{-1} dx = - \\int_1^3 x^{-1} dx\n",
    "= - x^{-1}\\bigg|_1^3 = - 3^{-1} + 1^{-1} = 1 - \\frac{1}{3}$$\n",
    "\n",
    "$$\\int_1^3 \\frac{1}{x^2} dx = \\frac{2}{3}$$\n",
    "\n",
    "\n",
    "To deploy the methods we use $f(x)=\\frac{1}{x^2}$, and we use a number of slices to obtain an error less than an $10^{-6}$"
   ]
  },
  {
   "cell_type": "code",
   "execution_count": 11,
   "id": "d5cbc471",
   "metadata": {
    "scrolled": true
   },
   "outputs": [
    {
     "name": "stdout",
     "output_type": "stream",
     "text": [
      "The integral for function in range 1.000 to 3.000 with 1000000 slices for simple integral method is: 0.666668\n",
      "The error compared with the analitical solution is: 0.00000089\n",
      "Time spent in function simple integral method 0.863 seconds. \n",
      "\n",
      "The integral for function in range 1.000 to 3.000 with 1000 slices for trapezoid integral method is: 0.666667\n",
      "The error compared with the analitical solution is: 0.00000064\n",
      "Time spent in function trapezoid integral method 0.002 seconds. \n",
      "\n",
      "The integral for function in range 1.000 to 3.000 with 50 slices for simpson integral method is: 0.666667\n",
      "The error compared with the analitical solution is: 0.00000034\n",
      "Time spent in function simpson integral method 0.000 seconds. \n",
      "\n"
     ]
    }
   ],
   "source": [
    "###Definition for the function\n",
    "def f(x):\n",
    "    return 1/(x*x)\n",
    "\n",
    "analitical_solution=2/3\n",
    "\n",
    "integration_method(simple, 1000000, 'simple', 1, 3, analitical_solution)\n",
    "integration_method(trapezoid, 1000, 'trapezoid', 1, 3, analitical_solution)\n",
    "integration_method(simpson, 50, 'simpson', 1, 3, analitical_solution)"
   ]
  },
  {
   "cell_type": "markdown",
   "id": "e586163a",
   "metadata": {},
   "source": [
    "**c)** $$\\int_2^4 (x^2+x+1) dx$$\n",
    "\n",
    "The solution analitical is:\n",
    "\n",
    "$$\\int_2^4 (x^2+x+1) dx = \\left(\\frac{x^3}{3} + \\frac{x^2}{2} + x \\right) \\bigg|_2^4 = \n",
    "\\left(\\frac{4^3}{3} + \\frac{4^2}{2} + 4 \\right) - \\left(\\frac{2^3}{3} + \\frac{2^2}{2} + 2 \\right)=\n",
    "\\left(\\frac{64}{3} + \\frac{24}{3} + \\frac{12}{3} \\right) - \\left(\\frac{8}{3} + \\frac{6}{3} + \\frac{6}{3} \\right)$$\n",
    "\n",
    "$$\\int_2^4 (x^2+x+1) dx = \\frac{80}{3}$$\n",
    "\n",
    "\n",
    "To deploy the methods we use $f(x)=(x^2+x+1)$, and we use a number of slices to obtain an error less than an $10^{-6}$"
   ]
  },
  {
   "cell_type": "code",
   "execution_count": 16,
   "id": "25be4c1a",
   "metadata": {
    "scrolled": true
   },
   "outputs": [
    {
     "name": "stdout",
     "output_type": "stream",
     "text": [
      "The integral for function in range 2.000 to 4.000 with 20000000 slices for simple integral method is: 26.666666\n",
      "The error compared with the analitical solution is: 0.00000070\n",
      "Time spent in function simple integral method 14.704 seconds. \n",
      "\n",
      "The integral for function in range 2.000 to 4.000 with 10000 slices for trapezoid integral method is: 26.666667\n",
      "The error compared with the analitical solution is: 0.00000001\n",
      "Time spent in function trapezoid integral method 0.009 seconds. \n",
      "\n",
      "The integral for function in range 2.000 to 4.000 with 10 slices for simpson integral method is: 26.666667\n",
      "The error compared with the analitical solution is: 0.00000000\n",
      "Time spent in function simpson integral method 0.000 seconds. \n",
      "\n"
     ]
    }
   ],
   "source": [
    "###Definition for the function\n",
    "def f(x):\n",
    "    return x*x + x + 1\n",
    "\n",
    "analitical_solution=80/3\n",
    "\n",
    "integration_method(simple, 20000000, 'simple', 2, 4, analitical_solution)\n",
    "integration_method(trapezoid, 10000, 'trapezoid', 2, 4, analitical_solution)\n",
    "integration_method(simpson, 10, 'simpson', 2, 4, analitical_solution)"
   ]
  },
  {
   "cell_type": "markdown",
   "id": "f1c15e85",
   "metadata": {},
   "source": [
    "**d)** $$\\int_0^{6.9} \\cos \\left(\\frac{\\pi}{2} x^2\\right) dx$$\n",
    "\n",
    "I don't find an analitical solution, but according Wolfram Alpha $\\int_0^{6.9} \\cos \\left(\\frac{\\pi}{2} x^2\\right) dx = 0.473225$\n",
    "\n",
    "To deploy the methods we use $f(x)=\\cos \\left(\\frac{\\pi}{2} x^2\\right)$, and we use a number of slices to obtain an error less than an $10^{-6}$"
   ]
  },
  {
   "cell_type": "code",
   "execution_count": 25,
   "id": "e5626fe3",
   "metadata": {},
   "outputs": [
    {
     "name": "stdout",
     "output_type": "stream",
     "text": [
      "The integral for function in range 0.000 to 6.900 with 1000000 slices for simple integral method is: 0.473226\n",
      "The error compared with the analitical solution is: 0.00000094\n",
      "Time spent in function simple integral method 0.922 seconds. \n",
      "\n",
      "The integral for function in range 0.000 to 6.900 with 10000 slices for trapezoid integral method is: 0.473226\n",
      "The error compared with the analitical solution is: 0.00000081\n",
      "Time spent in function trapezoid integral method 0.011 seconds. \n",
      "\n",
      "The integral for function in range 0.000 to 6.900 with 1000 slices for simpson integral method is: 0.473225\n",
      "The error compared with the analitical solution is: 0.00000024\n",
      "Time spent in function simpson integral method 0.002 seconds. \n",
      "\n"
     ]
    }
   ],
   "source": [
    "###Definition for the function\n",
    "def f(x):\n",
    "    return cos(pi*x*x /2)\n",
    "\n",
    "analitical_solution=0.473225\n",
    "\n",
    "integration_method(simple, 1000000, 'simple', 0, 6.9, analitical_solution)\n",
    "integration_method(trapezoid, 10000, 'trapezoid', 0, 6.9, analitical_solution)\n",
    "integration_method(simpson, 1000, 'simpson', 0, 6.9, analitical_solution)"
   ]
  }
 ],
 "metadata": {
  "kernelspec": {
   "display_name": "Python 3",
   "language": "python",
   "name": "python3"
  },
  "language_info": {
   "codemirror_mode": {
    "name": "ipython",
    "version": 3
   },
   "file_extension": ".py",
   "mimetype": "text/x-python",
   "name": "python",
   "nbconvert_exporter": "python",
   "pygments_lexer": "ipython3",
   "version": "3.8.8"
  }
 },
 "nbformat": 4,
 "nbformat_minor": 5
}
