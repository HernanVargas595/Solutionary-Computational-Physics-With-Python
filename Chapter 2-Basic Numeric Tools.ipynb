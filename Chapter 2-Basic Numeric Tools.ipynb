{
 "cells": [
  {
   "cell_type": "markdown",
   "id": "51b8f31b",
   "metadata": {},
   "source": [
    "# Bisection Method\n",
    "\n",
    "1. Start with two guesses on either side of the root, \n",
    "we'll call the guess to the left of the root a and the guess to the right of the root b.\n",
    "2. Find the value of the function at the midpoint x between a and b.\n",
    "3. Compare the signs of f(x) and f(a): if the signs are different, then the root\n",
    "must be between a and x, so let b = x. If the signs are the same, then the\n",
    "root must be between x and b, so let a = x.\n",
    "4. Repeat this process until the distance between a and b is less than the desired tolerance\n",
    "for your solution."
   ]
  },
  {
   "cell_type": "code",
   "execution_count": 12,
   "id": "671303ea",
   "metadata": {},
   "outputs": [
    {
     "name": "stdout",
     "output_type": "stream",
     "text": [
      "Enter guessess a (positive value for root):2\n",
      "Enter guessess b (negative value for function):1\n",
      "Found f(x)=0 at x=1.69460011 +/- 0.00000100\n",
      "f(x)= -2.1972592820773684e-06\n"
     ]
    }
   ],
   "source": [
    "\"\"\"\n",
    "This program uses the bisection method to find the root\n",
    "of f(x) = exp (x)* ln(x) - x*x = 0.\n",
    "\"\"\"\n",
    "from math import * # math functions and constants\n",
    "\n",
    "tolerance=1.0e-6 #solution tolerance.\n",
    "\n",
    "#function definition to calculate the root\n",
    "def f(x):\n",
    "    f=exp(x)*log(x)-x*x\n",
    "    return f\n",
    "\n",
    "#Definition of a & b\n",
    "root_positive, root_negative=-1, 1\n",
    "while root_positive<0:\n",
    "    a=eval(input(\"Enter guessess a (positive value for root):\"))\n",
    "    root_positive=f(a)\n",
    "while root_negative>0:\n",
    "    b=eval(input(\"Enter guessess b (negative value for function):\"))\n",
    "    root_negative=f(b)    \n",
    "# a , b =eval(input(\"Enter two guessess, separated by commas:\"))\n",
    "\n",
    "dx = abs(b-a)  #Inital value of dx\n",
    "\n",
    "##Bisection method\n",
    "while dx>tolerance:\n",
    "    x=(a+b)*0.5\n",
    "    if(f(a)*f(x)<0):\n",
    "        b=x\n",
    "    else:\n",
    "        a=x\n",
    "    dx=abs(b-a)\n",
    "    \n",
    "print('Found f(x)=0 at x=%.8f +/- %0.8f' % (x, tolerance))\n",
    "print(\"f(x)=\",f(x))"
   ]
  },
  {
   "cell_type": "code",
   "execution_count": 3,
   "id": "d8c7e91f",
   "metadata": {
    "scrolled": true
   },
   "outputs": [
    {
     "name": "stdout",
     "output_type": "stream",
     "text": [
      "1.5707963267948966\n",
      "3.141592653589793\n",
      "\n",
      "External file bisection method:\n",
      "def root_bisection(f, a, b, tolerance=1.0e-6):\n",
      "    \"\"\"\n",
      "    Uses the bisection method to find a value x between a and b\n",
      "    for which f(x)=0 , to with in the tolerance given .\n",
      "    Default tolerance is 1.0e-6, if no tolerenace is specified in\n",
      "    the function call.\n",
      "    \"\"\"\n",
      "\n",
      "    dx = abs(b-a)  #Inital value of dx\n",
      "\n",
      "    ##Bisection method\n",
      "    while dx>tolerance:\n",
      "        x=(a+b)*0.5\n",
      "        if(f(a)*f(x)<0):\n",
      "            b=x\n",
      "        else:\n",
      "            a=x\n",
      "        dx=abs(b-a)\n",
      "\n",
      "        return x\n"
     ]
    }
   ],
   "source": [
    "from math import *\n",
    "from resource import root_bisection as rb\n",
    "\n",
    "theta0 = rb.root_bisection(cos, 0, pi)\n",
    "\n",
    "print(theta0)\n",
    "print(theta0*2)\n",
    "\n",
    "print(\"\\nExternal file bisection method:\")\n",
    "!type .\\resource\\root_bisection.py"
   ]
  },
  {
   "cell_type": "markdown",
   "id": "87dd7120",
   "metadata": {},
   "source": [
    "# Problems\n",
    "**2-0.** Write a generalized function implementing the secant method of root-\n",
    "finding, similar to example 2.0.2."
   ]
  }
 ],
 "metadata": {
  "kernelspec": {
   "display_name": "Python 3",
   "language": "python",
   "name": "python3"
  },
  "language_info": {
   "codemirror_mode": {
    "name": "ipython",
    "version": 3
   },
   "file_extension": ".py",
   "mimetype": "text/x-python",
   "name": "python",
   "nbconvert_exporter": "python",
   "pygments_lexer": "ipython3",
   "version": "3.8.8"
  }
 },
 "nbformat": 4,
 "nbformat_minor": 5
}
