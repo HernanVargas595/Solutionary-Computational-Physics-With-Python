{
 "cells": [
  {
   "cell_type": "markdown",
   "id": "10b006f3",
   "metadata": {},
   "source": [
    "# Bisection Method\n",
    "\n",
    "1. Start with two guesses on either side of the root, \n",
    "we'll call the guess to the left of the root a and the guess to the right of the root b.\n",
    "2. Find the value of the function at the midpoint x between a and b.\n",
    "3. Compare the signs of f(x) and f(a): if the signs are different, then the root\n",
    "must be between a and x, so let b = x. If the signs are the same, then the\n",
    "root must be between x and b, so let a = x.\n",
    "4. Repeat this process until the distance between a and b is less than the desired tolerance\n",
    "for your solution."
   ]
  },
  {
   "cell_type": "code",
   "execution_count": 12,
   "id": "f783194c",
   "metadata": {},
   "outputs": [
    {
     "name": "stdout",
     "output_type": "stream",
     "text": [
      "Enter guessess a (positive value for root):2\n",
      "Enter guessess b (negative value for function):1\n",
      "Found f(x)=0 at x=1.69460011 +/- 0.00000100\n",
      "f(x)= -2.1972592820773684e-06\n"
     ]
    }
   ],
   "source": [
    "\"\"\"\n",
    "This program uses the bisection method to find the root\n",
    "of f(x) = exp (x)* ln(x) - x*x = 0.\n",
    "\"\"\"\n",
    "from math import * # math functions and constants\n",
    "\n",
    "tolerance=1.0e-6 #solution tolerance.\n",
    "\n",
    "#function definition to calculate the root\n",
    "def f(x):\n",
    "    f=exp(x)*log(x)-x*x\n",
    "    return f\n",
    "\n",
    "#Definition of a & b\n",
    "root_positive, root_negative=-1, 1\n",
    "while root_positive<0:\n",
    "    a=eval(input(\"Enter guessess a (positive value for root):\"))\n",
    "    root_positive=f(a)\n",
    "while root_negative>0:\n",
    "    b=eval(input(\"Enter guessess b (negative value for function):\"))\n",
    "    root_negative=f(b)    \n",
    "# a , b =eval(input(\"Enter two guessess, separated by commas:\"))\n",
    "\n",
    "dx = abs(b-a)  #Inital value of dx\n",
    "\n",
    "##Bisection method\n",
    "while dx>tolerance:\n",
    "    x=(a+b)*0.5\n",
    "    if(f(a)*f(x)<0):\n",
    "        b=x\n",
    "    else:\n",
    "        a=x\n",
    "    dx=abs(b-a)\n",
    "    \n",
    "print('Found f(x)=0 at x=%.8f +/- %0.8f' % (x, tolerance))\n",
    "print(\"f(x)=\",f(x))"
   ]
  },
  {
   "cell_type": "code",
   "execution_count": 3,
   "id": "fd8840cf",
   "metadata": {
    "scrolled": true
   },
   "outputs": [
    {
     "name": "stdout",
     "output_type": "stream",
     "text": [
      "1.5707963267948966\n",
      "3.141592653589793\n",
      "\n",
      "External file bisection method:\n",
      "def root_bisection(f, a, b, tolerance=1.0e-6):\n",
      "    \"\"\"\n",
      "    Uses the bisection method to find a value x between a and b\n",
      "    for which f(x)=0 , to with in the tolerance given .\n",
      "    Default tolerance is 1.0e-6, if no tolerenace is specified in\n",
      "    the function call.\n",
      "    \"\"\"\n",
      "\n",
      "    dx = abs(b-a)  #Inital value of dx\n",
      "\n",
      "    ##Bisection method\n",
      "    while dx>tolerance:\n",
      "        x=(a+b)*0.5\n",
      "        if(f(a)*f(x)<0):\n",
      "            b=x\n",
      "        else:\n",
      "            a=x\n",
      "        dx=abs(b-a)\n",
      "\n",
      "        return x\n"
     ]
    }
   ],
   "source": [
    "from math import *\n",
    "from resource import root_bisection as rb\n",
    "\n",
    "theta0 = rb.root_bisection(cos, 0, pi)\n",
    "\n",
    "print(theta0)\n",
    "print(theta0*2)\n",
    "\n",
    "print(\"\\nExternal file bisection method:\")\n",
    "!type .\\resource\\root_bisection.py"
   ]
  },
  {
   "cell_type": "markdown",
   "id": "c0416626",
   "metadata": {},
   "source": [
    "# Problems\n",
    "**2-0.** Write a generalized function implementing the secant method of root-\n",
    "finding, similar to example 2.0.2.\n",
    "\n",
    "**SOLUTION:**"
   ]
  },
  {
   "cell_type": "code",
   "execution_count": 68,
   "id": "567d735c",
   "metadata": {},
   "outputs": [
    {
     "name": "stdout",
     "output_type": "stream",
     "text": [
      "Secant method of root  finding\n",
      "Probe function x^2=2\n",
      "0 1\n",
      "1 2.0\n",
      "2.0 1.3333333333333335\n",
      "1.3333333333333335 1.4000000000000001\n",
      "1.4000000000000001 1.4146341463414633\n",
      "1.4146341463414633 1.41421143847487\n",
      "1.41421143847487 1.4142135620573204\n",
      "The root of funtion is: 1.4142135623730954\n",
      "1.4142135623730954 2.000000000000001\n"
     ]
    }
   ],
   "source": [
    "print(\"Secant method of root  finding\")\n",
    "from math import * \n",
    "\n",
    "##Define secant method\n",
    "def secant(f, a, b, tolerance=1.0e-6):\n",
    "    while abs(a-b)>tolerance:\n",
    "        print (a,b)\n",
    "        a,b=b,b-((b-a)/(f(b)-f(a)))*f(b)\n",
    "    return b\n",
    "    \n",
    "print(\"Probe function x^2=2\")\n",
    "def f(x):\n",
    "    return x*x-2\n",
    "\n",
    "root=secant(f, 0, 1)\n",
    "\n",
    "print(\"The root of funtion is:\", root)\n",
    "print(root, root*root)\n"
   ]
  },
  {
   "cell_type": "markdown",
   "id": "29a46761",
   "metadata": {},
   "source": [
    "**2-1.** Write a program that uses the trapezoid method to return the integral\n",
    "of a function over a given range, using a given number of sample points.\n",
    "The actual calculation should be a function of the form int_trap(f ,dx),\n",
    "where f is a list of function values and dx is the slice width.\n",
    "\n",
    "**SOLUTION:**"
   ]
  },
  {
   "cell_type": "code",
   "execution_count": 19,
   "id": "2fd6d2da",
   "metadata": {},
   "outputs": [
    {
     "name": "stdout",
     "output_type": "stream",
     "text": [
      "Trapezoid method for integral calcuation\n",
      "[1.5707963267948966, 1.7278759594743862, 1.8849555921538759, 2.0420352248333655, 2.199114857512855, 2.356194490192345, 2.5132741228718345, 2.670353755551324, 2.827433388230814, 2.9845130209103035, 3.141592653589793]\n",
      "The integral for function in range 1.570796 to 3.141593 is: 0.997943\n"
     ]
    }
   ],
   "source": [
    "print(\"Trapezoid method for integral calcuation\")\n",
    "from math import * \n",
    "\n",
    "##Trapezoid method\n",
    "def int_trap(f, dx):\n",
    "    int_sum=0.0\n",
    "    for i in range(len(dx)):\n",
    "#         print(i)\n",
    "        int_sum=int_sum + (f[i]+f[i+1])*dx[i]/2\n",
    "    return int_sum\n",
    "    \n",
    "###Definition of partition\n",
    "a=pi*0.5     #Initial point\n",
    "b=pi   #Final point\n",
    "n_partition=10\n",
    "x=[a+((b-a)*i/n_partition) for i in range(n_partition+1)] # x from 0 to pi/2\n",
    "# x=[i*pi/n_partition for i in range(n_partition+1)] # x from 0 to pi/2\n",
    "dx=[x[i+1]-x[i] for i in range(n_partition)]\n",
    "print(x)\n",
    "###Definition for the function\n",
    "def f(x):\n",
    "    return sin(x)\n",
    "\n",
    "fx=[f(x[i]) for i in range(n_partition+1)]\n",
    "\n",
    "integral=int_trap(fx, dx)\n",
    "\n",
    "print(\"The integral for function in range %f to %f is: %f\" % (x[0], x[n_partition], integral))\n",
    "\n",
    "# print(eval(\"sin({})\".format(x[n_partition])))"
   ]
  }
 ],
 "metadata": {
  "kernelspec": {
   "display_name": "Python 3",
   "language": "python",
   "name": "python3"
  },
  "language_info": {
   "codemirror_mode": {
    "name": "ipython",
    "version": 3
   },
   "file_extension": ".py",
   "mimetype": "text/x-python",
   "name": "python",
   "nbconvert_exporter": "python",
   "pygments_lexer": "ipython3",
   "version": "3.8.8"
  }
 },
 "nbformat": 4,
 "nbformat_minor": 5
}
