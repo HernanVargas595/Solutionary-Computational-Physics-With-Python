{
 "cells": [
  {
   "cell_type": "markdown",
   "id": "10b006f3",
   "metadata": {},
   "source": [
    "# Bisection Method\n",
    "\n",
    "1. Start with two guesses on either side of the root, \n",
    "we'll call the guess to the left of the root a and the guess to the right of the root b.\n",
    "2. Find the value of the function at the midpoint x between a and b.\n",
    "3. Compare the signs of f(x) and f(a): if the signs are different, then the root\n",
    "must be between a and x, so let b = x. If the signs are the same, then the\n",
    "root must be between x and b, so let a = x.\n",
    "4. Repeat this process until the distance between a and b is less than the desired tolerance\n",
    "for your solution."
   ]
  },
  {
   "cell_type": "code",
   "execution_count": 1,
   "id": "f783194c",
   "metadata": {},
   "outputs": [
    {
     "name": "stdout",
     "output_type": "stream",
     "text": [
      "Enter guessess a (positive value for root):3\n",
      "Enter guessess b (negative value for function):1\n",
      "Found f(x)=0 at x=1.69460011 +/- 0.00000100\n",
      "f(x)= -2.1972592820773684e-06\n"
     ]
    }
   ],
   "source": [
    "\"\"\"\n",
    "This program uses the bisection method to find the root\n",
    "of f(x) = exp (x)* ln(x) - x*x = 0.\n",
    "\"\"\"\n",
    "from math import * # math functions and constants\n",
    "\n",
    "tolerance=1.0e-6 #solution tolerance.\n",
    "\n",
    "#function definition to calculate the root\n",
    "def f(x):\n",
    "    f=exp(x)*log(x)-x*x\n",
    "    return f\n",
    "\n",
    "#Definition of a & b\n",
    "root_positive, root_negative=-1, 1\n",
    "while root_positive<0:\n",
    "    a=eval(input(\"Enter guessess a (positive value for root):\"))\n",
    "    root_positive=f(a)\n",
    "while root_negative>0:\n",
    "    b=eval(input(\"Enter guessess b (negative value for function):\"))\n",
    "    root_negative=f(b)    \n",
    "# a , b =eval(input(\"Enter two guessess, separated by commas:\"))\n",
    "\n",
    "dx = abs(b-a)  #Inital value of dx\n",
    "\n",
    "##Bisection method\n",
    "while dx>tolerance:\n",
    "    x=(a+b)*0.5\n",
    "    if(f(a)*f(x)<0):\n",
    "        b=x\n",
    "    else:\n",
    "        a=x\n",
    "    dx=abs(b-a)\n",
    "    \n",
    "print('Found f(x)=0 at x=%.8f +/- %0.8f' % (x, tolerance))\n",
    "print(\"f(x)=\",f(x))"
   ]
  },
  {
   "cell_type": "code",
   "execution_count": 2,
   "id": "fd8840cf",
   "metadata": {
    "scrolled": true
   },
   "outputs": [
    {
     "name": "stdout",
     "output_type": "stream",
     "text": [
      "1.5707963267948966\n",
      "3.141592653589793\n",
      "\n",
      "External file bisection method:\n",
      "def root_bisection(f, a, b, tolerance=1.0e-6):\n",
      "    \"\"\"\n",
      "    Uses the bisection method to find a value x between a and b\n",
      "    for which f(x)=0 , to with in the tolerance given .\n",
      "    Default tolerance is 1.0e-6, if no tolerenace is specified in\n",
      "    the function call.\n",
      "    \"\"\"\n",
      "\n",
      "    dx = abs(b-a)  #Inital value of dx\n",
      "\n",
      "    ##Bisection method\n",
      "    while dx>tolerance:\n",
      "        x=(a+b)*0.5\n",
      "        if(f(a)*f(x)<0):\n",
      "            b=x\n",
      "        else:\n",
      "            a=x\n",
      "        dx=abs(b-a)\n",
      "\n",
      "        return x\n"
     ]
    }
   ],
   "source": [
    "from math import *\n",
    "from resource import root_bisection as rb\n",
    "\n",
    "theta0 = rb.root_bisection(cos, 0, pi)\n",
    "\n",
    "print(theta0)\n",
    "print(theta0*2)\n",
    "\n",
    "print(\"\\nExternal file bisection method:\")\n",
    "!type .\\resource\\root_bisection.py"
   ]
  },
  {
   "cell_type": "markdown",
   "id": "c0416626",
   "metadata": {},
   "source": [
    "# Problems\n",
    "**2-0.** Write a generalized function implementing the secant method of root-\n",
    "finding, similar to example 2.0.2.\n",
    "\n",
    "**SOLUTION:** The secant method is similar to Newton method:\n",
    "\n",
    "$$x_{n+1} = x_n - \\frac{f(x_n)}{f'(x_n)}$$\n",
    "\n",
    "but if we take the derivate definiton we have:\n",
    "$$f'(x_n) = \\lim_{x_{n-1} \\rightarrow x_n}\\frac{f(x_{n-1})-f(x_n)}{x_{n-1}-x_n}$$\n",
    "\n",
    "but in this method we don't use the limit for the new iteration, then obtain the algorithmic to apply, the secant method\n",
    "\n",
    "$$x_{n+1} = x_n - \\frac{x_{n-1}-x_n}{f(x_{n-1})-f(x_n)} f(x_n)$$\n",
    "\n",
    "in this case we don't need to know the derivate of function $f(x)$ to apply the method"
   ]
  },
  {
   "cell_type": "code",
   "execution_count": 3,
   "id": "853b929a",
   "metadata": {},
   "outputs": [
    {
     "name": "stdout",
     "output_type": "stream",
     "text": [
      "Secant method of root  finding\n",
      "Probe function x^2=2\n",
      "0 1\n",
      "1 2.0\n",
      "2.0 1.3333333333333335\n",
      "1.3333333333333335 1.4000000000000001\n",
      "1.4000000000000001 1.4146341463414633\n",
      "1.4146341463414633 1.41421143847487\n",
      "1.41421143847487 1.4142135620573204\n",
      "The root of funtion is: 1.4142135623730954\n",
      "1.4142135623730954 2.000000000000001\n"
     ]
    }
   ],
   "source": [
    "print(\"Secant method of root  finding\")\n",
    "from math import * \n",
    "\n",
    "##Define secant method\n",
    "def secant(f, xnm1, xn, tolerance=1.0e-6):\n",
    "    while abs(xnm1-xn)>tolerance:\n",
    "        print (xnm1,xn)\n",
    "        xnm1,xn=xn,xn-((xn-xnm1)/(f(xn)-f(xnm1)))*f(xn)\n",
    "    return xn\n",
    "    \n",
    "print(\"Probe function x^2=2\")\n",
    "def f(x):\n",
    "    return x*x-2\n",
    "\n",
    "root=secant(f, 0, 1)\n",
    "\n",
    "print(\"The root of funtion is:\", root)\n",
    "print(root, root*root)"
   ]
  },
  {
   "cell_type": "markdown",
   "id": "298c433d",
   "metadata": {},
   "source": [
    "**2-1.** Write a program that uses the trapezoid method to return the integral\n",
    "of a function over a given range, using a given number of sample points.\n",
    "The actual calculation should be a function of the form int_trap(f ,dx),\n",
    "where f is a list of function values and dx is the slice width.\n",
    "\n",
    "**SOLUTION:** For apply the trapezoid method we use the approximation on the right part of relation , which is similar for the integral definition\n",
    "\n",
    "$$\\int_a^b f(x) dx \\approx \\sum_i^N \\frac{f(x_i)+f(x_{i-1})}{2} \\Delta x$$\n",
    "\n",
    "Then for work with this method we only knows the points to evaluate $x_i$ and the form of the function $f(x)$ to deploy this method"
   ]
  },
  {
   "cell_type": "code",
   "execution_count": 4,
   "id": "f5013c93",
   "metadata": {},
   "outputs": [
    {
     "name": "stdout",
     "output_type": "stream",
     "text": [
      "Trapezoid method for integral calcuation\n",
      "x: [1.5707963267948966, 1.7278759594743862, 1.8849555921538759, 2.0420352248333655, 2.199114857512855, 2.356194490192345, 2.5132741228718345, 2.670353755551324, 2.827433388230814, 2.9845130209103035, 3.141592653589793]\n",
      "The integral for function in range 1.570796 to 3.141593 is: 0.997943\n"
     ]
    }
   ],
   "source": [
    "print(\"Trapezoid method for integral calcuation\")\n",
    "from math import * \n",
    "\n",
    "##Trapezoid method\n",
    "def int_trap(f, dx):\n",
    "    int_sum=0.0\n",
    "    for i in range(len(dx)):\n",
    "#         print(i)\n",
    "        int_sum=int_sum + (f[i]+f[i+1])*dx[i]/2\n",
    "    return int_sum\n",
    "    \n",
    "###Definition of partition\n",
    "n_partition=10\n",
    "a=pi*0.5     #Initial point\n",
    "b=pi   #Final point\n",
    "x=[a+((b-a)*i/n_partition) for i in range(n_partition+1)] # x from pi/2 to pi\n",
    "# x=[i*pi/n_partition for i in range(n_partition+1)] # x from 0 to pi/2\n",
    "dx=[x[i+1]-x[i] for i in range(n_partition)]\n",
    "print(\"x:\", x)\n",
    "\n",
    "###Definition for the function\n",
    "def f(x):\n",
    "    return sin(x)\n",
    "\n",
    "fx=[f(x[i]) for i in range(n_partition+1)]\n",
    "\n",
    "integral=int_trap(fx, dx)\n",
    "\n",
    "print(\"The integral for function in range %f to %f is: %f\" % (x[0], x[n_partition], integral))"
   ]
  },
  {
   "cell_type": "markdown",
   "id": "3620b45d",
   "metadata": {},
   "source": [
    "**2-2** Compare the results of the simple integration method, the trapezoid\n",
    "integration method from problem 1, and Simpson's method of integration\n",
    "for the following integrals:\n",
    "\n",
    "* a) $$\\int_0^{\\pi/2} \\cos(x) dx$$\n",
    "* b) $$\\int_1^3 \\frac{1}{x^2} dx$$\n",
    "* c) $$\\int_2^4 (x^2+x+1) dx$$\n",
    "* d) $$\\int_0^{6.9} \\cos \\left(\\frac{\\pi}{2} x^2\\right) dx$$\n",
    "\n",
    "For each part, try it with more and with fewer slices to determine\n",
    "how many slices are required to give an 'acceptable' answer. (If you\n",
    "double the number of slices and still get the same answer, then try half\n",
    "as many, etc. Parts (c) and (d) are particularly interesting in this\n",
    "regard. In your submitted work, describe roughly how many points\n",
    "were required, and explain.\n",
    "\n",
    "Note: The function in (d) is the Fresnel Cosine Integral, used in optics.\n",
    "It may be helpful in understanding what's going on with your\n",
    "integration if you make a graph of the function. For more information\n",
    "on this function, see [13]."
   ]
  },
  {
   "cell_type": "markdown",
   "id": "d219df82",
   "metadata": {},
   "source": [
    "**SOLUTION:** The using methods using are\n",
    "\n",
    "*SIMPLE INTEGRAL METHOD*\n",
    "\n",
    "$$\\int_a^b f(x) dx \\approx \\sum_i f(x_i) \\Delta x$$\n",
    "\n",
    "*TRAPEZOID METHOD*\n",
    "$$\\int_a^b f(x) dx \\approx \\sum_i^N \\frac{f(x_i)+f(x_{i-1})}{2} \\Delta x$$\n",
    "\n",
    "*SIMPSON METHOD*\n",
    "\n",
    "$$\\int_a^b f(x) dx \\approx \\frac{\\Delta x}{3}\\sum_{k=odd}^{N-1} (f(x_{k-1}) + 4f(x_{k})+f(x_{k+1}) ) $$\n",
    "In simpson method we are restricted to use a even number of slices.\n",
    "\n",
    "In first time we write the code of the methods in diferents functions"
   ]
  },
  {
   "cell_type": "code",
   "execution_count": 5,
   "id": "1a553054",
   "metadata": {},
   "outputs": [],
   "source": [
    "##Simple integral method\n",
    "def simple(f, dx):\n",
    "    int_sum=0.0\n",
    "    for i in range(len(dx)):\n",
    "        int_sum=int_sum + (f[i])*dx[i]\n",
    "    return int_sum    \n",
    "\n",
    "##Trapezoid method\n",
    "def trapezoid(f, dx):\n",
    "    int_sum=0.0\n",
    "    for i in range(len(dx)):\n",
    "        int_sum=int_sum + (f[i]+f[i+1])*dx[i]/2\n",
    "    return int_sum\n",
    "\n",
    "def simpson(f, dx):\n",
    "    int_sum=0.0\n",
    "    number_slices=len(dx)-1\n",
    "    for i in range(1, number_slices, 2):\n",
    "        int_sum=int_sum + (dx[i]/3)* (f[i-1] + 4*f[i]+ f[i+1])\n",
    "    if number_slices%2==0:\n",
    "        return int_sum\n",
    "    else:\n",
    "        last_slice=(dx[number_slices]/12)*(5*f[number_slices] + 8*f[number_slices-1]- f[number_slices-2]) \n",
    "        int_sum=int_sum+last_slice \n",
    "        return int_sum\n",
    "    \n",
    "    \n",
    "from math import * \n",
    "import time\n",
    "\n",
    "##########################################\n",
    "###Definition partition function\n",
    "# x from a to b with n_partition slices\n",
    "def partition_function(a,b,n_partition):\n",
    "    x=[a+((b-a)*i/n_partition) for i in range(n_partition+1)] \n",
    "    dx=[x[i+1]-x[i] for i in range(n_partition)]\n",
    "#     print(\"x:\", x)\n",
    "    return x, dx\n",
    "\n",
    "###Function for add an specified method\n",
    "def integration_method(method, n_partition, name_method, a, b, true_value=0):\n",
    "    t0=time.time()\n",
    "    x, dx=partition_function(a, b, n_partition)\n",
    "    fx=[f(x[i]) for i in range(n_partition+1)]\n",
    "\n",
    "    integral=method(fx, dx)\n",
    "    error=abs(integral-true_value)\n",
    "    print(\"The integral for function in range %.3f to %.3f with %d slices for %s integral method is: %f\" % \n",
    "          (x[0], x[n_partition], n_partition, name_method, integral))\n",
    "    print(\"The error compared with the analitical solution is: %.8f\" % error)\n",
    "    print(\"Time spent in function %s integral method %.3f seconds. \\n\" % (name_method, time.time()-t0))"
   ]
  },
  {
   "cell_type": "markdown",
   "id": "a1f1768b",
   "metadata": {},
   "source": [
    "**a)** $$\\int_0^{\\pi/2} \\cos(x) dx$$\n",
    "\n",
    "The solution analitical is:\n",
    "\n",
    "$$\\int_0^{\\pi/2} \\cos(x) dx = \\sin(x)\\bigg|_0^{\\pi/2} = \\sin(\\pi/2) - \\sin(0) = 1-0$$\n",
    "\n",
    "$$\\int_0^{\\pi/2} \\cos(x) dx = 1$$\n",
    "\n",
    "\n",
    "To deploy the methods we use $f(x)=\\cos(x)$, and we use a number of slices to obtain an error less than an $10^{-6}$"
   ]
  },
  {
   "cell_type": "code",
   "execution_count": 6,
   "id": "7c94f786",
   "metadata": {},
   "outputs": [
    {
     "name": "stdout",
     "output_type": "stream",
     "text": [
      "The integral for function in range 0.000 to 1.571 with 1000000 slices for simple integral method is: 1.000001\n",
      "The error compared with the analitical solution is: 0.00000079\n",
      "Time spent in function simple integral method 1.566 seconds. \n",
      "\n",
      "The integral for function in range 0.000 to 1.571 with 1000 slices for trapezoid integral method is: 1.000000\n",
      "The error compared with the analitical solution is: 0.00000021\n",
      "Time spent in function trapezoid integral method 0.001 seconds. \n",
      "\n",
      "The integral for function in range 0.000 to 1.571 with 20 slices for simpson integral method is: 0.996919\n",
      "The error compared with the analitical solution is: 0.00308089\n",
      "Time spent in function simpson integral method 0.004 seconds. \n",
      "\n"
     ]
    }
   ],
   "source": [
    "###Definition for the function\n",
    "def f(x):\n",
    "    return cos(x)\n",
    "\n",
    "analitical_solution=1.0\n",
    "\n",
    "integration_method(simple, 1000000, 'simple', 0, pi/2, analitical_solution)\n",
    "integration_method(trapezoid, 1000, 'trapezoid', 0, pi/2, analitical_solution)\n",
    "integration_method(simpson, 20, 'simpson', 0, pi/2, analitical_solution)"
   ]
  },
  {
   "cell_type": "markdown",
   "id": "4ef5178b",
   "metadata": {},
   "source": [
    "**b)** $$\\int_1^3 \\frac{1}{x^2} dx$$\n",
    "\n",
    "The solution analitical is:\n",
    "\n",
    "$$\\int_1^3 \\frac{1}{x^2} dx= \\int_1^3 x^{-2} dx = \\int_1^3 \\frac{x^{-1}}{-1} dx = - \\int_1^3 x^{-1} dx\n",
    "= - x^{-1}\\bigg|_1^3 = - 3^{-1} + 1^{-1} = 1 - \\frac{1}{3}$$\n",
    "\n",
    "$$\\int_1^3 \\frac{1}{x^2} dx = \\frac{2}{3}$$\n",
    "\n",
    "\n",
    "To deploy the methods we use $f(x)=\\frac{1}{x^2}$, and we use a number of slices to obtain an error less than an $10^{-6}$"
   ]
  },
  {
   "cell_type": "code",
   "execution_count": 7,
   "id": "3a8493ab",
   "metadata": {
    "scrolled": true
   },
   "outputs": [
    {
     "name": "stdout",
     "output_type": "stream",
     "text": [
      "The integral for function in range 1.000 to 3.000 with 1000000 slices for simple integral method is: 0.666668\n",
      "The error compared with the analitical solution is: 0.00000089\n",
      "Time spent in function simple integral method 1.505 seconds. \n",
      "\n",
      "The integral for function in range 1.000 to 3.000 with 1000 slices for trapezoid integral method is: 0.666667\n",
      "The error compared with the analitical solution is: 0.00000064\n",
      "Time spent in function trapezoid integral method 0.003 seconds. \n",
      "\n",
      "The integral for function in range 1.000 to 3.000 with 50 slices for simpson integral method is: 0.662162\n",
      "The error compared with the analitical solution is: 0.00450418\n",
      "Time spent in function simpson integral method 0.000 seconds. \n",
      "\n"
     ]
    }
   ],
   "source": [
    "###Definition for the function\n",
    "def f(x):\n",
    "    return 1/(x*x)\n",
    "\n",
    "analitical_solution=2/3\n",
    "\n",
    "integration_method(simple, 1000000, 'simple', 1, 3, analitical_solution)\n",
    "integration_method(trapezoid, 1000, 'trapezoid', 1, 3, analitical_solution)\n",
    "integration_method(simpson, 50, 'simpson', 1, 3, analitical_solution)"
   ]
  },
  {
   "cell_type": "markdown",
   "id": "9f9f1117",
   "metadata": {},
   "source": [
    "**c)** $$\\int_2^4 (x^2+x+1) dx$$\n",
    "\n",
    "The solution analitical is:\n",
    "\n",
    "$$\\int_2^4 (x^2+x+1) dx = \\left(\\frac{x^3}{3} + \\frac{x^2}{2} + x \\right) \\bigg|_2^4 = \n",
    "\\left(\\frac{4^3}{3} + \\frac{4^2}{2} + 4 \\right) - \\left(\\frac{2^3}{3} + \\frac{2^2}{2} + 2 \\right)=\n",
    "\\left(\\frac{64}{3} + \\frac{24}{3} + \\frac{12}{3} \\right) - \\left(\\frac{8}{3} + \\frac{6}{3} + \\frac{6}{3} \\right)$$\n",
    "\n",
    "$$\\int_2^4 (x^2+x+1) dx = \\frac{80}{3}$$\n",
    "\n",
    "\n",
    "To deploy the methods we use $f(x)=(x^2+x+1)$, and we use a number of slices to obtain an error less than an $10^{-6}$"
   ]
  },
  {
   "cell_type": "code",
   "execution_count": 8,
   "id": "0fdcc3fe",
   "metadata": {
    "scrolled": true
   },
   "outputs": [
    {
     "name": "stdout",
     "output_type": "stream",
     "text": [
      "The integral for function in range 2.000 to 4.000 with 20000000 slices for simple integral method is: 26.666666\n",
      "The error compared with the analitical solution is: 0.00000070\n",
      "Time spent in function simple integral method 32.655 seconds. \n",
      "\n",
      "The integral for function in range 2.000 to 4.000 with 10000 slices for trapezoid integral method is: 26.666667\n",
      "The error compared with the analitical solution is: 0.00000001\n",
      "Time spent in function trapezoid integral method 0.024 seconds. \n",
      "\n",
      "The integral for function in range 2.000 to 4.000 with 10 slices for simpson integral method is: 22.644000\n",
      "The error compared with the analitical solution is: 4.02266667\n",
      "Time spent in function simpson integral method 0.004 seconds. \n",
      "\n"
     ]
    }
   ],
   "source": [
    "###Definition for the function\n",
    "def f(x):\n",
    "    return x*x + x + 1\n",
    "\n",
    "analitical_solution=80/3\n",
    "\n",
    "integration_method(simple, 20000000, 'simple', 2, 4, analitical_solution)\n",
    "integration_method(trapezoid, 10000, 'trapezoid', 2, 4, analitical_solution)\n",
    "integration_method(simpson, 10, 'simpson', 2, 4, analitical_solution)"
   ]
  },
  {
   "cell_type": "markdown",
   "id": "387a412a",
   "metadata": {},
   "source": [
    "**d)** $$\\int_0^{6.9} \\cos \\left(\\frac{\\pi}{2} x^2\\right) dx$$\n",
    "\n",
    "I don't find an analitical solution, but according Wolfram Alpha $\\int_0^{6.9} \\cos \\left(\\frac{\\pi}{2} x^2\\right) dx = 0.473225$\n",
    "\n",
    "To deploy the methods we use $f(x)=\\cos \\left(\\frac{\\pi}{2} x^2\\right)$, and we use a number of slices to obtain an error less than an $10^{-6}$"
   ]
  },
  {
   "cell_type": "code",
   "execution_count": 9,
   "id": "1a307d49",
   "metadata": {},
   "outputs": [
    {
     "name": "stdout",
     "output_type": "stream",
     "text": [
      "The integral for function in range 0.000 to 6.900 with 1000000 slices for simple integral method is: 0.473226\n",
      "The error compared with the analitical solution is: 0.00000094\n",
      "Time spent in function simple integral method 2.037 seconds. \n",
      "\n",
      "The integral for function in range 0.000 to 6.900 with 10000 slices for trapezoid integral method is: 0.473226\n",
      "The error compared with the analitical solution is: 0.00000081\n",
      "Time spent in function trapezoid integral method 0.036 seconds. \n",
      "\n",
      "The integral for function in range 0.000 to 6.900 with 1000 slices for simpson integral method is: 0.467896\n",
      "The error compared with the analitical solution is: 0.00532870\n",
      "Time spent in function simpson integral method 0.004 seconds. \n",
      "\n"
     ]
    }
   ],
   "source": [
    "###Definition for the function\n",
    "def f(x):\n",
    "    return cos(pi*x*x /2)\n",
    "\n",
    "analitical_solution=0.473225\n",
    "\n",
    "integration_method(simple, 1000000, 'simple', 0, 6.9, analitical_solution)\n",
    "integration_method(trapezoid, 10000, 'trapezoid', 0, 6.9, analitical_solution)\n",
    "integration_method(simpson, 1000, 'simpson', 0, 6.9, analitical_solution)"
   ]
  },
  {
   "cell_type": "markdown",
   "id": "d54f96bf",
   "metadata": {},
   "source": [
    "**2-3** Show that equation 2.12 is correct.\n",
    "\n",
    "**SOLUTION:** The equation 2.12 of the book is\n",
    "$$A_{last \\space slice} = \\frac{\\Delta x}{12} (5 f(N) + 8 f(N-1) - f(N-2))$$\n",
    "\n",
    "To find the solution of the last slice we have to approximate the last slice to the equation of parabola which goes through the three points for last points in the sample $x_{N}, x_{N-1}, x_{N-2}$, \n",
    "\n",
    "$$x_{N-2}=a \\quad x_{N-1}=m \\quad and \\quad x_N=b \n",
    "\\qquad\n",
    "(Definition \\space 1)$$\n",
    "\n",
    "And we know that $m$ is the media point between $a$ and $b$\n",
    "\n",
    "$$m = \\frac{a+b}{2}\n",
    "\\qquad\n",
    "(Definition \\space 2)$$\n",
    "\n",
    "And for defintion (2) we have the next relation, which is useful for next replace\n",
    "$$\\Delta x = m-a = b-m = \\frac{b-a}{2} \n",
    "\\qquad\n",
    "(Definition \\space 3)$$\n",
    "\n",
    "The equation for a parabola takes this form \n",
    "\n",
    "$$g_{last \\space slice}(x) = f(a) \\frac{(x-m)(x-b)}{(a-m)(a-b)} +\n",
    "f(m) \\frac{(x-a)(x-b)}{(m-a)(m-b)} +\n",
    "f(b) \\frac{(x-m)(x-a)}{(b-m)(b-a)}$$\n",
    "\n",
    "And we must integrate the function $g_{last \\space slice}(x)$ between $x_{N-1}$ and $x_N$,\n",
    "\n",
    "In first time we have:\n",
    "\n",
    "$$\\int_{m}^{b} f(a) \\frac{(x-m)(x-b)}{(a-m)(a-b)} dx = \n",
    "\\frac{f(a)}{(a-m)(a-b)} \\int_{m}^{b} (x-m)(x-b) dx\n",
    "\\qquad (Equation \\space 1)$$\n",
    "\n",
    "And the last integral \n",
    "\n",
    "$$\\int_{m}^{b} (x-m)(x-b) dx = \\int_{m}^{b} (x^2 - (m+b)x + mb) dx = \n",
    "\\left[\\frac{x^3}{3} - \\frac{(m+b) x^2}{2} +mbx \\right]_{m}^{b} = \n",
    "\\frac{b^3 - m^3}{3} - \\frac{(m+b) (b^2-m^2)}{2} +mb(b-m)$$\n",
    "$$=\\frac{b-m}{6} [2(b^2 + bm + m^2) - 3(m+b)(b+m) + 6mb]$$\n",
    "$$=\\frac{b-m}{6} [2b^2 + 2bm + 2m^2 - 3m^2 -6mb- 3b^2  + 6mb]$$\n",
    "$$=\\frac{b-m}{6} [2bm -m^2- b^2] = \\frac{b-m}{6} [-(b-m)^2]$$\n",
    "\n",
    "Then\n",
    "\n",
    "$$\\int_{m}^{b} f(a) \\frac{(x-m)(x-b)}{(a-m)(a-b)} dx = \\frac{f(a)}{(a-m)(a-b)} \\frac{b-m}{6} [-(b-m)^2]$$\n",
    "\n",
    "And we have $(b-m) = (m-a) = (b-a)/2$ for Definition (2)\n",
    "\n",
    "$$\\int_{m}^{b} f(a) \\frac{(x-m)(x-b)}{(a-m)(a-b)} dx = \\frac{f(a)}{[-(b-m)][-2(b-m)]} \\frac{b-m}{6} [-(b-m)^2] =\n",
    "\\frac{f(a)}{2(b-m)^2} \\frac{b-m}{6} [-(b-m)^2]$$\n",
    "$$\\int_{m}^{b} f(a) \\frac{(x-m)(x-b)}{(a-m)(a-b)} dx = \\frac{b-m}{12} f(a) (-1) \\qquad (Equation \\space 1)$$\n",
    "\n",
    "The second integral is\n",
    "\n",
    "$$\\int_{m}^{b} f(m) \\frac{(x-a)(x-b)}{(m-a)(m-b)} dx = \n",
    "\\frac{f(m)}{(m-a)(m-b)} \\int_{m}^{b} (x-a)(x-b) dx \\qquad (Equation \\space 2)$$\n",
    "\n",
    "$$\\int_{m}^{b} (x-a)(x-b) = \\int_{m}^{b} (x^2 - (a+b)x + ab) dx = \n",
    "\\left[\\frac{x^3}{3} - \\frac{(a+b) x^2}{2} +mbx \\right]_{m}^{b} = \n",
    "\\frac{b^3 - m^3}{3} - \\frac{(m+b) (b^2-m^2)}{2} +ab(b-m)$$\n",
    "$$=\\frac{b-m}{6} [2(b^2 + bm + m^2) - 3(a+b)(b+m) + 6ab]$$\n",
    "$$=\\frac{b-m}{6} [2b^2 + 2bm + 2m^2 - 3ab -3am- 3b^2 -3bm  + 6ab]$$\n",
    "$$=\\frac{b-m}{6} [2m^2 - 3am - b^2 -bm +3ab] = \\frac{b-m}{6} [(m-b)(2(m-b)+3(b-a))]$$\n",
    "\n",
    "If $(m-a) = -(m-b)$ and $(b-a)=2(m-a)$ for Definition (2), then\n",
    "\n",
    "$$\\int_{m}^{b} f(m) \\frac{(x-a)(x-b)}{(m-a)(m-b)} dx = \n",
    "\\frac{f(m)}{(m-a)(m-b)}  \\frac{b-m}{6} [(m-b)(2(m-b)+3(b-a))]$$\n",
    "$$= \\frac{f(m)}{(m-a)(m-b)}  \\frac{b-m}{6} [(m-b)(-2(m-a)+6(m-a))]$$\n",
    "$$= \\frac{f(m)}{(m-a)(m-b)}  \\frac{b-m}{6} [4(m-b)(m-a)]$$\n",
    "\n",
    "$$\\int_{m}^{b} f(m) \\frac{(x-a)(x-b)}{(m-a)(m-b)} dx = \n",
    "\\frac{b-m}{12} f(m) (8) \\qquad (Equation \\space 2)$$\n",
    "\n",
    "The third integral is\n",
    "\n",
    "$$\\int_{m}^{b} f(b) \\frac{(x-m)(x-a)}{(b-m)(b-a)} dx = \n",
    "\\frac{f(m)}{(b-m)(b-a)} \\int_{m}^{b} (x-m)(x-a) dx \\qquad (Equation \\space 3)$$\n",
    "\n",
    "$$\\int_{m}^{b} (x-m)(x-a) = \\int_{m}^{b} (x^2 - (m+a)x + ma) dx = \n",
    "\\left[\\frac{x^3}{3} - \\frac{(m+a) x^2}{2} +max \\right]_{m}^{b} = \n",
    "\\frac{b^3 - m^3}{3} - \\frac{(m+a) (b^2-m^2)}{2} +ma(b-m)$$\n",
    "$$=\\frac{b-m}{6} [2(b^2 + bm + m^2) - 3(m+a)(b+m) + 6ma]$$\n",
    "$$=\\frac{b-m}{6} [2b^2 + 2bm + 2m^2 - 3mb -3m^2- 3ab -3am  + 6ma]$$\n",
    "$$=\\frac{b-m}{6} [2b^2 - bm - m^2- 3ab + 3ma] = \\frac{b-m}{6} [(b-m)(2(b-a)+(m-a))]$$\n",
    "\n",
    "If $(b-a)/2=(m-a)$ for Definition (2), then\n",
    "\n",
    "$$=\\frac{b-m}{6} [2b^2 - bm - m^2- 3ab + 3ma] = \\frac{b-m}{6} \\left[(b-m)\\left(2(b-a)+\\frac{(b-a)}{2}\\right)\\right]$$\n",
    "\n",
    "$$= \\frac{b-m}{6} \\left[(b-m)\\left(\\frac{5(b-a)}{2}\\right)\\right] = \n",
    "\\frac{b-m}{12} (5)(b-m) (b-a)$$\n",
    "\n",
    "The last integral is\n",
    "\n",
    "$$\\int_{m}^{b} f(b) \\frac{(x-m)(x-a)}{(b-m)(b-a)} dx = \n",
    "\\frac{b-m}{12} f(b) (5) \\qquad (Equation \\space 3)$$\n",
    "\n",
    "And we make the replaces of $(Equation \\space 1)$, $(Equation \\space 2)$ and $(Equation \\space 3)$\n",
    "\n",
    "$$A_{last \\space slice} = \\int_m^b g_{last \\space slice}(x) dx = \\frac{b-m}{12} ((-1)f(a)+ 8f(b)+ 5 f(m))$$\n",
    "\n",
    "And replace the values in $(Definition \\space 1)$ and $(Definition \\space 3)$ we obtain the equation 2.12 of the book."
   ]
  },
  {
   "cell_type": "markdown",
   "id": "5bd63998",
   "metadata": {},
   "source": [
    "**2-4** Write a program that can calculate double integrals. Use the simple\n",
    "method, but instead of using rectangular slices use square prisms with\n",
    "volume $f(x,y) \\Delta x \\Delta y$. Check your program by using it to calculate the\n",
    "volume of a hemisphere."
   ]
  },
  {
   "cell_type": "code",
   "execution_count": 10,
   "id": "536a177a",
   "metadata": {},
   "outputs": [
    {
     "name": "stdout",
     "output_type": "stream",
     "text": [
      "Method for double integral calcuation\n",
      "The integral for function in range -1.000 to 1.000 with 3000 slices for double x-y integral method is: 2.094395\n",
      "The error compared with the analitical solution is: 0.00000037\n",
      "Time spent in function double x-y integral method 12.982 seconds. \n",
      "\n"
     ]
    }
   ],
   "source": [
    "print(\"Method for double integral calcuation\")\n",
    "from math import * \n",
    "import time\n",
    "\n",
    "def double_integral(f, dx, dy):\n",
    "    int_sum=0.0\n",
    "    for i in range(len(dx)):\n",
    "        for j in range(len(dy)):\n",
    "#             print(i,j,f[i][j])\n",
    "            int_sum=int_sum + (f[i][j])*dx[i]*dy[i]\n",
    "    return int_sum  \n",
    "\n",
    "def double_partition_function(xi,xf,yi,yf,n_partition):\n",
    "    x=[xi+((xf-xi)*i/n_partition) for i in range(n_partition+1)] \n",
    "    dx=[x[i+1]-x[i] for i in range(n_partition)]\n",
    "    \n",
    "    y=[yi+((yf-yi)*i/n_partition) for i in range(n_partition+1)] \n",
    "    dy=[y[i+1]-y[i] for i in range(n_partition)]\n",
    "#     print(\"x:\", x)\n",
    "    return x, y, dx, dy\n",
    "\n",
    "###Hemisphere function ratio 1\n",
    "def f(x,y):\n",
    "    ratio=1\n",
    "    if(x*x + y*y<ratio):\n",
    "        return sqrt(ratio- x*x - y*y)\n",
    "    else:\n",
    "        return 0\n",
    "\n",
    "n_partition=3000\n",
    "limit=1.0\n",
    "true_value= 2*pi/3\n",
    "name_method='double x-y'\n",
    "\n",
    "t0=time.time()\n",
    "x, y, dx, dy=double_partition_function(-limit, limit, -limit, limit, n_partition)\n",
    "f=[[f(x[i], y[j]) for i in range(n_partition+1)] for j in range(n_partition+1)]\n",
    "\n",
    "\n",
    "integral=double_integral(f, dx, dy)\n",
    "error=abs(integral-true_value)\n",
    "print(\"The integral for function in range %.3f to %.3f with %d slices for %s integral method is: %f\" % \n",
    "      (x[0], x[n_partition], n_partition, name_method, integral))\n",
    "print(\"The error compared with the analitical solution is: %.8f\" % error)\n",
    "print(\"Time spent in function %s integral method %.3f seconds. \\n\" % (name_method, time.time()-t0))"
   ]
  },
  {
   "cell_type": "markdown",
   "id": "598a4fcd",
   "metadata": {},
   "source": [
    "**2-5** The Simpson's method program developed in this chapter requires\n",
    "uniform slice width. It's sometimes convenient to integrate using slices\n",
    "of varying width, for example if one needs to integrate data sets that\n",
    "are taken at irregular time intervals. Write a Simpson's method routine\n",
    "that integrates over non-constant-width slices. The routine should\n",
    "take two arrays as its arguments: the first array should be an array should be an array of\n",
    "function values f(x), and the second an array of values of x.\n",
    "\n",
    "**SOLUTION:** In the section *2-2* we develop a program which uses a the before features, and we rewrite this function to next:"
   ]
  },
  {
   "cell_type": "code",
   "execution_count": 11,
   "id": "ecc86b11",
   "metadata": {},
   "outputs": [],
   "source": [
    "def simpson(f, dx):\n",
    "    int_sum=0.0\n",
    "    number_slices=len(dx)-1\n",
    "    for i in range(1, number_slices, 2):\n",
    "        int_sum=int_sum + (dx[i]/3)* (f[i-1] + 4*f[i]+ f[i+1])\n",
    "    if number_slices%2==0:\n",
    "        return int_sum\n",
    "    else:\n",
    "        last_slice=(dx[number_slices]/12)*(5*f[number_slices] + 8*f[number_slices-1]- f[number_slices-2]) \n",
    "        int_sum=int_sum+last_slice \n",
    "        return int_sum"
   ]
  },
  {
   "cell_type": "markdown",
   "id": "ec2caca8",
   "metadata": {},
   "source": [
    "**2-6** The Fermi-Dirac distribution describes the probability of finding a\n",
    "quantum particle with half-integer spin $(\\frac{1}{2},\\frac{3}{2},...)$ in energy state E:\n",
    "\n",
    "$$f_{FD} = \\frac{1}{e^{(E-\\mu)/\\kappa T} + 1}$$\n",
    "\n",
    "The $\\mu$ in the Fermi-Dirac distribution is called the Fermi energy, and\n",
    "in this case we want to adjust $\\mu$ so that the total probability of finding\n",
    "the particle somewhere is exactly one.\n",
    "\n",
    "$$\\int_{E_{min}}^{E_{max}} f_{FD} dE =1$$\n",
    "\n",
    "Imagine a room-temperature quantum system where for some reason\n",
    "the energy E is constrained to be between 0 and 2 eV. What is $\\mu$ in\n",
    "this case? At room temperature, $\\kappa T \\approx \\frac{1}{40} eV$. Feel free to use any\n",
    "of the integration and/or root-finding routines you've learned in this\n",
    "chapter."
   ]
  },
  {
   "cell_type": "code",
   "execution_count": 50,
   "id": "1d3c87ad",
   "metadata": {},
   "outputs": [
    {
     "data": {
      "text/plain": [
       "[<matplotlib.lines.Line2D at 0x2701cb89310>]"
      ]
     },
     "execution_count": 50,
     "metadata": {},
     "output_type": "execute_result"
    },
    {
     "data": {
      "image/png": "[encoded data removed]",
      "text/plain": [
       "<Figure size 432x288 with 1 Axes>"
      ]
     },
     "metadata": {
      "needs_background": "light"
     },
     "output_type": "display_data"
    }
   ],
   "source": [
    "import numpy as np\n",
    "import matplotlib.pyplot as plt\n",
    "from math import * \n",
    "\n",
    "##Define secant method\n",
    "def secant(f, xnm1, xn, tolerance=1.0e-6):\n",
    "    while abs(xnm1-xn)>tolerance:\n",
    "        print (xnm1,xn)\n",
    "        xnm1,xn=xn,xn-((xn-xnm1)/(f(xn)-f(xnm1)))*f(xn)\n",
    "    return xn\n",
    "\n",
    "\n",
    "#Define variables (energies and temperature)\n",
    "Emin, Emax, KT = 0 , 2, 1/40\n",
    "\n",
    "###Definition of partition\n",
    "n_partition=100\n",
    "a=Emin     #Initial point\n",
    "b=Emax   #Final point\n",
    "E=[a+((b-a)*i/n_partition) for i in range(n_partition+1)] # x from 0 to 2\n",
    "dE=[x[i+1]-x[i] for i in range(n_partition)]\n",
    "# print(\"E:\", E)\n",
    "\n",
    "def ffd(E, mu):\n",
    "    return 1/(np.exp((E-mu)/KT) + 1)\n",
    "\n",
    "# mu=0\n",
    "mu = np.linspace(-10, 10, 500)\n",
    "fE=[ffd(E[i], mu) for i in range(n_partition+1)]\n",
    "# print(\"ffd:\", fE)\n",
    "\n",
    "fermi_integral=simpson(fE, dE)\n",
    "root=fermi_integral-1\n",
    "# print(fermi_integral)\n",
    "# print(root)\n",
    "\n",
    "##Plot scale y\n",
    "fig=plt.figure()\n",
    "ax2=fig.add_subplot(2, 1, 1)\n",
    "plt.plot(mu, fermi_integral, 'ro', markersize=5)\n",
    "\n",
    "# root=secant(f, 0, 1)"
   ]
  }
 ],
 "metadata": {
  "kernelspec": {
   "display_name": "Python 3",
   "language": "python",
   "name": "python3"
  },
  "language_info": {
   "codemirror_mode": {
    "name": "ipython",
    "version": 3
   },
   "file_extension": ".py",
   "mimetype": "text/x-python",
   "name": "python",
   "nbconvert_exporter": "python",
   "pygments_lexer": "ipython3",
   "version": "3.8.8"
  }
 },
 "nbformat": 4,
 "nbformat_minor": 5
}
